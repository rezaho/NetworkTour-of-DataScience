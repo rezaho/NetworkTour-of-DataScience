{
 "cells": [
  {
   "cell_type": "code",
   "execution_count": 1,
   "metadata": {},
   "outputs": [],
   "source": [
    "import pandas as pd\n",
    "import os\n",
    "import numpy\n",
    "import spotipy\n",
    "import spotipy.util as util\n",
    "import json\n",
    "import time\n",
    "import tqdm\n",
    "import re"
   ]
  },
  {
   "cell_type": "code",
   "execution_count": 2,
   "metadata": {},
   "outputs": [],
   "source": [
    "data_folder='../'\n",
    "data_main = 'MSD/main/'\n",
    "data_librosa = 'librosa_features/'\n",
    "data_meta = 'meta/'"
   ]
  },
  {
   "cell_type": "markdown",
   "metadata": {},
   "source": [
    "# 1. Getting Genres and followers of each artists\n",
    "\n",
    "## 1.1. Loading and preparing 'tracks_features' dataset"
   ]
  },
  {
   "cell_type": "code",
   "execution_count": 15,
   "metadata": {},
   "outputs": [
    {
     "name": "stdout",
     "output_type": "stream",
     "text": [
      "(64502, 4)\n"
     ]
    },
    {
     "data": {
      "text/html": [
       "<div>\n",
       "<style scoped>\n",
       "    .dataframe tbody tr th:only-of-type {\n",
       "        vertical-align: middle;\n",
       "    }\n",
       "\n",
       "    .dataframe tbody tr th {\n",
       "        vertical-align: top;\n",
       "    }\n",
       "\n",
       "    .dataframe thead th {\n",
       "        text-align: right;\n",
       "    }\n",
       "</style>\n",
       "<table border=\"1\" class=\"dataframe\">\n",
       "  <thead>\n",
       "    <tr style=\"text-align: right;\">\n",
       "      <th></th>\n",
       "      <th>trackID</th>\n",
       "      <th>artistID</th>\n",
       "      <th>albumID</th>\n",
       "      <th>URL</th>\n",
       "    </tr>\n",
       "  </thead>\n",
       "  <tbody>\n",
       "    <tr>\n",
       "      <th>0</th>\n",
       "      <td>1oPJpjMvYEQJhqEDsYgHSh</td>\n",
       "      <td>3uOCouLFR4bVx0XeiQJSbl</td>\n",
       "      <td>3jq7b66l8MswqDmi0mxzjq</td>\n",
       "      <td>https://p.scdn.co/mp3-preview/77b2e4f2d3df4851...</td>\n",
       "    </tr>\n",
       "    <tr>\n",
       "      <th>1</th>\n",
       "      <td>5TqXuugXB5ov1LJiXb5IAl</td>\n",
       "      <td>65Gh3BfK84aTIugiRCgLBA</td>\n",
       "      <td>0upTl2RUS4gmStWBlXjt9l</td>\n",
       "      <td>https://p.scdn.co/mp3-preview/541e7bb62eecf5c4...</td>\n",
       "    </tr>\n",
       "    <tr>\n",
       "      <th>2</th>\n",
       "      <td>5ClMLCk8IFxkvlr5sS8PhM</td>\n",
       "      <td>6rSpV5hdCNJ4v1i602nj22</td>\n",
       "      <td>7uvLu2RAki7aKiASSxJPzi</td>\n",
       "      <td>https://p.scdn.co/mp3-preview/795802acaaa84ca7...</td>\n",
       "    </tr>\n",
       "    <tr>\n",
       "      <th>3</th>\n",
       "      <td>6YIBHGP1MaxJsZV8ykzc07</td>\n",
       "      <td>15Rn3v2LgUxR0donJY8e1E</td>\n",
       "      <td>4apgpVOan95H6xvIDAfX44</td>\n",
       "      <td>https://p.scdn.co/mp3-preview/6eef762849d6bdbc...</td>\n",
       "    </tr>\n",
       "    <tr>\n",
       "      <th>4</th>\n",
       "      <td>2tBoHZ9UtMMRRljiwubtQc</td>\n",
       "      <td>0X0TajZO1RmY3D8u1JymYq</td>\n",
       "      <td>0iHug1S696AsitJpyUr4T6</td>\n",
       "      <td>https://p.scdn.co/mp3-preview/35811ad304778701...</td>\n",
       "    </tr>\n",
       "  </tbody>\n",
       "</table>\n",
       "</div>"
      ],
      "text/plain": [
       "                  trackID                artistID                 albumID  \\\n",
       "0  1oPJpjMvYEQJhqEDsYgHSh  3uOCouLFR4bVx0XeiQJSbl  3jq7b66l8MswqDmi0mxzjq   \n",
       "1  5TqXuugXB5ov1LJiXb5IAl  65Gh3BfK84aTIugiRCgLBA  0upTl2RUS4gmStWBlXjt9l   \n",
       "2  5ClMLCk8IFxkvlr5sS8PhM  6rSpV5hdCNJ4v1i602nj22  7uvLu2RAki7aKiASSxJPzi   \n",
       "3  6YIBHGP1MaxJsZV8ykzc07  15Rn3v2LgUxR0donJY8e1E  4apgpVOan95H6xvIDAfX44   \n",
       "4  2tBoHZ9UtMMRRljiwubtQc  0X0TajZO1RmY3D8u1JymYq  0iHug1S696AsitJpyUr4T6   \n",
       "\n",
       "                                                 URL  \n",
       "0  https://p.scdn.co/mp3-preview/77b2e4f2d3df4851...  \n",
       "1  https://p.scdn.co/mp3-preview/541e7bb62eecf5c4...  \n",
       "2  https://p.scdn.co/mp3-preview/795802acaaa84ca7...  \n",
       "3  https://p.scdn.co/mp3-preview/6eef762849d6bdbc...  \n",
       "4  https://p.scdn.co/mp3-preview/35811ad304778701...  "
      ]
     },
     "execution_count": 15,
     "metadata": {},
     "output_type": "execute_result"
    }
   ],
   "source": [
    "# Loading 'tracks_features.csv'\n",
    "songs_features = pd.read_csv('{}{}songs_features_final.csv'.format(data_folder,data_main),\n",
    "                             index_col=None, usecols=['trackID', 'artistID', 'albumID', 'URL'],\n",
    "                             encoding='utf-8', low_memory=False)\n",
    "\n",
    "                              \n",
    "print(songs_features.shape)\n",
    "songs_features.head()"
   ]
  },
  {
   "cell_type": "markdown",
   "metadata": {},
   "source": [
    "## 1.2. Gettting the infor using Spotify API"
   ]
  },
  {
   "cell_type": "code",
   "execution_count": 16,
   "metadata": {},
   "outputs": [],
   "source": [
    "# Defining Authentication credentials\n",
    "scope = 'user-library-read' # You can change the scope based on your usage\n",
    "username = \"\" # Put the user's username\n",
    "client_id = '' #Provide the client id from your own Spotify developer \n",
    "client_secret = '' #Provide the client secret from your own Spotify developer\n",
    "\n",
    "# Getting the tocken for authentication\n",
    "token = util.prompt_for_user_token(username, scope, client_id=client_id , \n",
    "                                   client_secret=client_secret, redirect_uri='http://google.com/')\n",
    "\n",
    "try: # Test whether the authentication credentials are valid, if yes create Spotipy object \n",
    "    sp = spotipy.Spotify(auth=token)\n",
    "except:\n",
    "    raise ValueError('There is problem with Token!')"
   ]
  },
  {
   "cell_type": "code",
   "execution_count": 17,
   "metadata": {},
   "outputs": [],
   "source": [
    "# Initializing global variables\n",
    "genres_set = set()\n",
    "step_size = 49"
   ]
  },
  {
   "cell_type": "code",
   "execution_count": 18,
   "metadata": {},
   "outputs": [],
   "source": [
    "def genresSpotify(features_df):\n",
    "    '''\n",
    "    Gets genre, artist's followers for each track id.\n",
    "    \n",
    "        Return:\n",
    "            Data frame containing genre and artist's followers information\n",
    "        Parameters:\n",
    "            - features_df: dataframe containing ('trackId','artistID') pairs\n",
    "    '''\n",
    "    global genres_set\n",
    "    global sp\n",
    "    # Making a copy of 'features_df'\n",
    "    features_df = features_df.reset_index(drop=True).copy()\n",
    "    \n",
    "    # Initializing the genres dataframe lists\n",
    "    artistID = []\n",
    "    followers = []\n",
    "    genres_l = []\n",
    "    artist_name= []\n",
    "    \n",
    "    # Initializing tqdm\n",
    "    total = features_df.shape[0]\n",
    "    pbar = tqdm.tqdm(total=total)\n",
    "    \n",
    "    while not features_df.empty:\n",
    "        try:\n",
    "            artist_info = sp.artists(artists=features_df.loc[:step_size,'artistID'])\n",
    "        except:\n",
    "            print('Error in getting Artists info!!   Countdown has started...')\n",
    "            time.sleep(15)\n",
    "            # Getting the tocken for authentication\n",
    "            token = util.prompt_for_user_token(username, scope, client_id=client_id , \n",
    "                                               client_secret=client_secret, redirect_uri='http://google.com/')\n",
    "\n",
    "            try: # Test whether the authentication credentials are valid, if yes create Spotipy object \n",
    "                sp = spotipy.Spotify(auth=token)\n",
    "            except:\n",
    "                print('There is problem with Token!')\n",
    "            try:\n",
    "                artist_info = sp.artists(artists=features_df.loc[:step_size,'artistID'])\n",
    "            except:\n",
    "                print('There is problem with on of these ArtistIDs: \\n{}\\n**********************\\n'\n",
    "                      .format(features_df.loc[:step_size,'artistID']))\n",
    "                artist_info = {'artists': [None]}\n",
    "        \n",
    "        # Getting list of artists info\n",
    "        artist_info = artist_info['artists']\n",
    "        \n",
    "        for i, item in enumerate(artist_info):\n",
    "            if item:\n",
    "                # Adding new genres to 'genres_Set'\n",
    "                genres_set = genres_set | set(item['genres'])\n",
    "                # Adding to lists\n",
    "                artistID.append(item['id'])\n",
    "                followers.append(item['followers']['total'])\n",
    "                genres_l.append(str(item['genres']))\n",
    "                artist_name.append(item['name'])\n",
    "            else:\n",
    "                print('Problem in item: \\n{}'.format(json.dumps(item, indent=4)))\n",
    "        # Updating\n",
    "        pbar.update(min(step_size, features_df.shape[0]))\n",
    "        features_df = features_df.iloc[step_size:,:].reset_index(drop=True).copy()\n",
    "\n",
    "        \n",
    "    # Defining the 'genres_df'\n",
    "    genres_df = pd.DataFrame(dict(artistID=artistID,\n",
    "                                  artistName=artist_name,\n",
    "                                  artistFollowers=followers,\n",
    "                                  genres=genres_l))\n",
    "    # Closing tqdm\n",
    "    pbar.close()\n",
    "    return genres_df"
   ]
  },
  {
   "cell_type": "code",
   "execution_count": 19,
   "metadata": {},
   "outputs": [
    {
     "name": "stderr",
     "output_type": "stream",
     "text": [
      " 14%|█▍        | 9212/64502 [00:13<01:17, 709.91it/s]"
     ]
    },
    {
     "name": "stdout",
     "output_type": "stream",
     "text": [
      "retrying ...3secs\n",
      "retrying ...1secs\n"
     ]
    },
    {
     "name": "stderr",
     "output_type": "stream",
     "text": [
      " 22%|██▏       | 14112/64502 [00:24<01:05, 769.65it/s]"
     ]
    },
    {
     "name": "stdout",
     "output_type": "stream",
     "text": [
      "retrying ...2secs\n",
      "retrying ...1secs\n"
     ]
    },
    {
     "name": "stderr",
     "output_type": "stream",
     "text": [
      " 32%|███▏      | 20776/64502 [00:36<00:56, 779.54it/s]"
     ]
    },
    {
     "name": "stdout",
     "output_type": "stream",
     "text": [
      "retrying ...1secs\n"
     ]
    },
    {
     "name": "stderr",
     "output_type": "stream",
     "text": [
      " 40%|███▉      | 25676/64502 [00:43<00:49, 791.08it/s]"
     ]
    },
    {
     "name": "stdout",
     "output_type": "stream",
     "text": [
      "retrying ...2secs\n",
      "retrying ...1secs\n"
     ]
    },
    {
     "name": "stderr",
     "output_type": "stream",
     "text": [
      " 47%|████▋     | 30576/64502 [00:53<00:41, 822.71it/s]"
     ]
    },
    {
     "name": "stdout",
     "output_type": "stream",
     "text": [
      "retrying ...3secs\n",
      "retrying ...1secs\n"
     ]
    },
    {
     "name": "stderr",
     "output_type": "stream",
     "text": [
      " 55%|█████▍    | 35476/64502 [01:03<00:34, 848.71it/s]"
     ]
    },
    {
     "name": "stdout",
     "output_type": "stream",
     "text": [
      "retrying ...3secs\n",
      "retrying ...1secs\n"
     ]
    },
    {
     "name": "stderr",
     "output_type": "stream",
     "text": [
      " 63%|██████▎   | 40376/64502 [01:13<00:27, 883.22it/s]"
     ]
    },
    {
     "name": "stdout",
     "output_type": "stream",
     "text": [
      "retrying ...3secs\n",
      "retrying ...1secs\n"
     ]
    },
    {
     "name": "stderr",
     "output_type": "stream",
     "text": [
      " 74%|███████▎  | 47432/64502 [01:25<00:18, 905.62it/s]"
     ]
    },
    {
     "name": "stdout",
     "output_type": "stream",
     "text": [
      "retrying ...1secs\n",
      "retrying ...1secs\n"
     ]
    },
    {
     "name": "stderr",
     "output_type": "stream",
     "text": [
      " 95%|█████████▌| 61593/64502 [01:41<00:02, 1090.72it/s]"
     ]
    },
    {
     "name": "stdout",
     "output_type": "stream",
     "text": [
      "retrying ...5secs\n",
      "retrying ...1secs\n"
     ]
    },
    {
     "name": "stderr",
     "output_type": "stream",
     "text": [
      "100%|██████████| 64502/64502 [01:50<00:00, 975.16it/s] \n"
     ]
    },
    {
     "name": "stdout",
     "output_type": "stream",
     "text": [
      "genres_df size without dropna:  (65818, 4)\n",
      "genres_df size with dropna:  (65818, 4)\n"
     ]
    },
    {
     "data": {
      "text/html": [
       "<div>\n",
       "<style scoped>\n",
       "    .dataframe tbody tr th:only-of-type {\n",
       "        vertical-align: middle;\n",
       "    }\n",
       "\n",
       "    .dataframe tbody tr th {\n",
       "        vertical-align: top;\n",
       "    }\n",
       "\n",
       "    .dataframe thead th {\n",
       "        text-align: right;\n",
       "    }\n",
       "</style>\n",
       "<table border=\"1\" class=\"dataframe\">\n",
       "  <thead>\n",
       "    <tr style=\"text-align: right;\">\n",
       "      <th></th>\n",
       "      <th>artistID</th>\n",
       "      <th>artistName</th>\n",
       "      <th>artistFollowers</th>\n",
       "      <th>genres</th>\n",
       "    </tr>\n",
       "  </thead>\n",
       "  <tbody>\n",
       "    <tr>\n",
       "      <th>0</th>\n",
       "      <td>3uOCouLFR4bVx0XeiQJSbl</td>\n",
       "      <td>Harold Budd</td>\n",
       "      <td>30414</td>\n",
       "      <td>['ambient', 'american contemporary classical',...</td>\n",
       "    </tr>\n",
       "    <tr>\n",
       "      <th>1</th>\n",
       "      <td>65Gh3BfK84aTIugiRCgLBA</td>\n",
       "      <td>Dave Edmunds</td>\n",
       "      <td>28604</td>\n",
       "      <td>['blues-rock', 'british blues', 'power pop', '...</td>\n",
       "    </tr>\n",
       "    <tr>\n",
       "      <th>2</th>\n",
       "      <td>6rSpV5hdCNJ4v1i602nj22</td>\n",
       "      <td>LANDA DANIEL</td>\n",
       "      <td>794</td>\n",
       "      <td>[]</td>\n",
       "    </tr>\n",
       "    <tr>\n",
       "      <th>3</th>\n",
       "      <td>15Rn3v2LgUxR0donJY8e1E</td>\n",
       "      <td>I Love You But I've Chosen Darkness</td>\n",
       "      <td>6603</td>\n",
       "      <td>['austindie']</td>\n",
       "    </tr>\n",
       "    <tr>\n",
       "      <th>4</th>\n",
       "      <td>0X0TajZO1RmY3D8u1JymYq</td>\n",
       "      <td>Au Revoir Simone</td>\n",
       "      <td>61008</td>\n",
       "      <td>['brooklyn indie', 'indie pop']</td>\n",
       "    </tr>\n",
       "  </tbody>\n",
       "</table>\n",
       "</div>"
      ],
      "text/plain": [
       "                 artistID                           artistName  \\\n",
       "0  3uOCouLFR4bVx0XeiQJSbl                          Harold Budd   \n",
       "1  65Gh3BfK84aTIugiRCgLBA                         Dave Edmunds   \n",
       "2  6rSpV5hdCNJ4v1i602nj22                         LANDA DANIEL   \n",
       "3  15Rn3v2LgUxR0donJY8e1E  I Love You But I've Chosen Darkness   \n",
       "4  0X0TajZO1RmY3D8u1JymYq                     Au Revoir Simone   \n",
       "\n",
       "   artistFollowers                                             genres  \n",
       "0            30414  ['ambient', 'american contemporary classical',...  \n",
       "1            28604  ['blues-rock', 'british blues', 'power pop', '...  \n",
       "2              794                                                 []  \n",
       "3             6603                                      ['austindie']  \n",
       "4            61008                    ['brooklyn indie', 'indie pop']  "
      ]
     },
     "execution_count": 19,
     "metadata": {},
     "output_type": "execute_result"
    }
   ],
   "source": [
    "#######################################################\n",
    "##### Getting genres information from Spotify API #####\n",
    "#######################################################\n",
    "\n",
    "# Getting info and saving to 'genres_df' dataframe\n",
    "genres_df = genresSpotify(songs_features)\n",
    "\n",
    "# Saving the resulting dataset\n",
    "genres_df.to_csv('{}{}{}artistGenres_data.csv'.format(data_folder, data_main, data_meta),\n",
    "                 encoding='utf-8', index=True)\n",
    "\n",
    "print('genres_df size without dropna: ', genres_df.shape)\n",
    "print('genres_df size with dropna: ',genres_df.dropna(how='any').shape)\n",
    "genres_df.head()"
   ]
  },
  {
   "cell_type": "code",
   "execution_count": 26,
   "metadata": {},
   "outputs": [],
   "source": [
    "######################################################\n",
    "##### Finding all distinct genres in the dataset #####\n",
    "######################################################\n",
    "\n",
    "# defining regex pattern\n",
    "pattern = r\"'([^']*)'\"\n",
    "\n",
    "genre_set = set()\n",
    "for genre in genres_df.genres:\n",
    "    genre_set |= set(re.findall(pattern, genre))\n"
   ]
  },
  {
   "cell_type": "markdown",
   "metadata": {},
   "source": [
    "## 1.3. Looking into the 10 most popular artists"
   ]
  },
  {
   "cell_type": "code",
   "execution_count": 30,
   "metadata": {},
   "outputs": [
    {
     "data": {
      "text/html": [
       "<div>\n",
       "<style scoped>\n",
       "    .dataframe tbody tr th:only-of-type {\n",
       "        vertical-align: middle;\n",
       "    }\n",
       "\n",
       "    .dataframe tbody tr th {\n",
       "        vertical-align: top;\n",
       "    }\n",
       "\n",
       "    .dataframe thead th {\n",
       "        text-align: right;\n",
       "    }\n",
       "</style>\n",
       "<table border=\"1\" class=\"dataframe\">\n",
       "  <thead>\n",
       "    <tr style=\"text-align: right;\">\n",
       "      <th></th>\n",
       "      <th>artistID</th>\n",
       "      <th>artistName</th>\n",
       "      <th>artistFollowers</th>\n",
       "      <th>genres</th>\n",
       "    </tr>\n",
       "  </thead>\n",
       "  <tbody>\n",
       "    <tr>\n",
       "      <th>54869</th>\n",
       "      <td>5pKCCKE2ajJHZ9KAiaK11H</td>\n",
       "      <td>Rihanna</td>\n",
       "      <td>28963934</td>\n",
       "      <td>['dance pop', 'pop', 'post-teen pop', 'r&amp;b', '...</td>\n",
       "    </tr>\n",
       "    <tr>\n",
       "      <th>65361</th>\n",
       "      <td>1Cs0zKBU1kc0i8ypK3B9ai</td>\n",
       "      <td>David Guetta</td>\n",
       "      <td>17164993</td>\n",
       "      <td>['dance pop', 'edm', 'pop']</td>\n",
       "    </tr>\n",
       "    <tr>\n",
       "      <th>65760</th>\n",
       "      <td>4gzpq5DPGxSnKTe4SA8HAU</td>\n",
       "      <td>Coldplay</td>\n",
       "      <td>16941734</td>\n",
       "      <td>['permanent wave', 'pop']</td>\n",
       "    </tr>\n",
       "    <tr>\n",
       "      <th>63155</th>\n",
       "      <td>6vWDO969PvNqNYHIOW5v0m</td>\n",
       "      <td>Beyoncé</td>\n",
       "      <td>16925994</td>\n",
       "      <td>['dance pop', 'pop', 'post-teen pop', 'r&amp;b']</td>\n",
       "    </tr>\n",
       "    <tr>\n",
       "      <th>61162</th>\n",
       "      <td>0EmeFodog0BfCgMzAIvKQp</td>\n",
       "      <td>Shakira</td>\n",
       "      <td>14852100</td>\n",
       "      <td>['colombian pop', 'dance pop', 'latin', 'latin...</td>\n",
       "    </tr>\n",
       "    <tr>\n",
       "      <th>63947</th>\n",
       "      <td>6XyY86QOPPrYVGvF9ch6wz</td>\n",
       "      <td>Linkin Park</td>\n",
       "      <td>11124042</td>\n",
       "      <td>['alternative metal', 'nu metal', 'post-grunge...</td>\n",
       "    </tr>\n",
       "    <tr>\n",
       "      <th>203</th>\n",
       "      <td>4VMYDCV2IEDYJArk749S6m</td>\n",
       "      <td>Daddy Yankee</td>\n",
       "      <td>9866720</td>\n",
       "      <td>['latin', 'latin hip hop', 'pop', 'reggaeton',...</td>\n",
       "    </tr>\n",
       "    <tr>\n",
       "      <th>39018</th>\n",
       "      <td>5WUlDfRSoLAfcVSX1WnrxN</td>\n",
       "      <td>Sia</td>\n",
       "      <td>9782699</td>\n",
       "      <td>['australian dance', 'australian pop', 'dance ...</td>\n",
       "    </tr>\n",
       "    <tr>\n",
       "      <th>55627</th>\n",
       "      <td>0L8ExT028jH3ddEcZwqJJ5</td>\n",
       "      <td>Red Hot Chili Peppers</td>\n",
       "      <td>9330591</td>\n",
       "      <td>['alternative rock', 'funk metal', 'permanent ...</td>\n",
       "    </tr>\n",
       "    <tr>\n",
       "      <th>56981</th>\n",
       "      <td>1SupJlEpv7RS2tPNRaHViT</td>\n",
       "      <td>Nicky Jam</td>\n",
       "      <td>8455777</td>\n",
       "      <td>['latin', 'latin hip hop', 'pop', 'reggaeton',...</td>\n",
       "    </tr>\n",
       "    <tr>\n",
       "      <th>8820</th>\n",
       "      <td>3fMbdgg4jU18AjLCKBhRSm</td>\n",
       "      <td>Michael Jackson</td>\n",
       "      <td>8216842</td>\n",
       "      <td>['pop']</td>\n",
       "    </tr>\n",
       "    <tr>\n",
       "      <th>63655</th>\n",
       "      <td>7oPftvlwr6VrsViSDV7fJY</td>\n",
       "      <td>Green Day</td>\n",
       "      <td>7932091</td>\n",
       "      <td>['permanent wave', 'pop punk', 'punk']</td>\n",
       "    </tr>\n",
       "    <tr>\n",
       "      <th>63838</th>\n",
       "      <td>7bXgB6jMjp9ATFy66eO08Z</td>\n",
       "      <td>Chris Brown</td>\n",
       "      <td>7802600</td>\n",
       "      <td>['dance pop', 'pop', 'pop rap', 'r&amp;b', 'rap']</td>\n",
       "    </tr>\n",
       "    <tr>\n",
       "      <th>40426</th>\n",
       "      <td>31TPClRtHm23RisEBtV3X7</td>\n",
       "      <td>Justin Timberlake</td>\n",
       "      <td>7423356</td>\n",
       "      <td>['dance pop', 'pop']</td>\n",
       "    </tr>\n",
       "    <tr>\n",
       "      <th>49750</th>\n",
       "      <td>55Aa2cqylxrFIXC767Z865</td>\n",
       "      <td>Lil Wayne</td>\n",
       "      <td>7148384</td>\n",
       "      <td>['hip hop', 'pop rap', 'rap', 'trap music']</td>\n",
       "    </tr>\n",
       "    <tr>\n",
       "      <th>44711</th>\n",
       "      <td>23zg3TcAtWQy7J6upgbUnj</td>\n",
       "      <td>Usher</td>\n",
       "      <td>6673679</td>\n",
       "      <td>['atl hip hop', 'dance pop', 'pop', 'pop rap',...</td>\n",
       "    </tr>\n",
       "    <tr>\n",
       "      <th>63123</th>\n",
       "      <td>0jnsk9HBra6NMjO2oANoPY</td>\n",
       "      <td>Flo Rida</td>\n",
       "      <td>6636488</td>\n",
       "      <td>['dance pop', 'edm', 'miami hip hop', 'pop', '...</td>\n",
       "    </tr>\n",
       "    <tr>\n",
       "      <th>29736</th>\n",
       "      <td>07YZf4WDAMNwqr4jfgOZ8y</td>\n",
       "      <td>Jason Derulo</td>\n",
       "      <td>6339713</td>\n",
       "      <td>['dance pop', 'pinoy hip hop', 'pop', 'pop rap...</td>\n",
       "    </tr>\n",
       "    <tr>\n",
       "      <th>915</th>\n",
       "      <td>36QJpDe2go2KgaRleHCDTp</td>\n",
       "      <td>Led Zeppelin</td>\n",
       "      <td>6311219</td>\n",
       "      <td>['album rock', 'classic rock', 'hard rock', 'r...</td>\n",
       "    </tr>\n",
       "    <tr>\n",
       "      <th>48191</th>\n",
       "      <td>2DlGxzQSjYe5N6G9nkYghR</td>\n",
       "      <td>Jennifer Lopez</td>\n",
       "      <td>5753274</td>\n",
       "      <td>['dance pop', 'pop', 'post-teen pop', 'r&amp;b', '...</td>\n",
       "    </tr>\n",
       "  </tbody>\n",
       "</table>\n",
       "</div>"
      ],
      "text/plain": [
       "                     artistID             artistName  artistFollowers  \\\n",
       "54869  5pKCCKE2ajJHZ9KAiaK11H                Rihanna         28963934   \n",
       "65361  1Cs0zKBU1kc0i8ypK3B9ai           David Guetta         17164993   \n",
       "65760  4gzpq5DPGxSnKTe4SA8HAU               Coldplay         16941734   \n",
       "63155  6vWDO969PvNqNYHIOW5v0m                Beyoncé         16925994   \n",
       "61162  0EmeFodog0BfCgMzAIvKQp                Shakira         14852100   \n",
       "63947  6XyY86QOPPrYVGvF9ch6wz            Linkin Park         11124042   \n",
       "203    4VMYDCV2IEDYJArk749S6m           Daddy Yankee          9866720   \n",
       "39018  5WUlDfRSoLAfcVSX1WnrxN                    Sia          9782699   \n",
       "55627  0L8ExT028jH3ddEcZwqJJ5  Red Hot Chili Peppers          9330591   \n",
       "56981  1SupJlEpv7RS2tPNRaHViT              Nicky Jam          8455777   \n",
       "8820   3fMbdgg4jU18AjLCKBhRSm        Michael Jackson          8216842   \n",
       "63655  7oPftvlwr6VrsViSDV7fJY              Green Day          7932091   \n",
       "63838  7bXgB6jMjp9ATFy66eO08Z            Chris Brown          7802600   \n",
       "40426  31TPClRtHm23RisEBtV3X7      Justin Timberlake          7423356   \n",
       "49750  55Aa2cqylxrFIXC767Z865              Lil Wayne          7148384   \n",
       "44711  23zg3TcAtWQy7J6upgbUnj                  Usher          6673679   \n",
       "63123  0jnsk9HBra6NMjO2oANoPY               Flo Rida          6636488   \n",
       "29736  07YZf4WDAMNwqr4jfgOZ8y           Jason Derulo          6339713   \n",
       "915    36QJpDe2go2KgaRleHCDTp           Led Zeppelin          6311219   \n",
       "48191  2DlGxzQSjYe5N6G9nkYghR         Jennifer Lopez          5753274   \n",
       "\n",
       "                                                  genres  \n",
       "54869  ['dance pop', 'pop', 'post-teen pop', 'r&b', '...  \n",
       "65361                        ['dance pop', 'edm', 'pop']  \n",
       "65760                          ['permanent wave', 'pop']  \n",
       "63155       ['dance pop', 'pop', 'post-teen pop', 'r&b']  \n",
       "61162  ['colombian pop', 'dance pop', 'latin', 'latin...  \n",
       "63947  ['alternative metal', 'nu metal', 'post-grunge...  \n",
       "203    ['latin', 'latin hip hop', 'pop', 'reggaeton',...  \n",
       "39018  ['australian dance', 'australian pop', 'dance ...  \n",
       "55627  ['alternative rock', 'funk metal', 'permanent ...  \n",
       "56981  ['latin', 'latin hip hop', 'pop', 'reggaeton',...  \n",
       "8820                                             ['pop']  \n",
       "63655             ['permanent wave', 'pop punk', 'punk']  \n",
       "63838      ['dance pop', 'pop', 'pop rap', 'r&b', 'rap']  \n",
       "40426                               ['dance pop', 'pop']  \n",
       "49750        ['hip hop', 'pop rap', 'rap', 'trap music']  \n",
       "44711  ['atl hip hop', 'dance pop', 'pop', 'pop rap',...  \n",
       "63123  ['dance pop', 'edm', 'miami hip hop', 'pop', '...  \n",
       "29736  ['dance pop', 'pinoy hip hop', 'pop', 'pop rap...  \n",
       "915    ['album rock', 'classic rock', 'hard rock', 'r...  \n",
       "48191  ['dance pop', 'pop', 'post-teen pop', 'r&b', '...  "
      ]
     },
     "execution_count": 30,
     "metadata": {},
     "output_type": "execute_result"
    }
   ],
   "source": [
    "genres_df.sort_values(by=['artistFollowers'], ascending=False).drop_duplicates(subset=['artistName']).head(20)"
   ]
  },
  {
   "cell_type": "code",
   "execution_count": 31,
   "metadata": {},
   "outputs": [],
   "source": [
    "#####################################################################\n",
    "##### All genres that has appeared in the 'genres_df' dataframe #####\n",
    "#####################################################################\n",
    "\n",
    "# Saving genres set\n",
    "genres_series = pd.Series(list(genres_set), name='genres')\n",
    "genres_series.to_csv('{}{}{}genres_list.csv'.format(data_folder, data_main, data_meta),\n",
    "                     encoding='utf-8', header=True, index=False)"
   ]
  },
  {
   "cell_type": "code",
   "execution_count": 32,
   "metadata": {},
   "outputs": [
    {
     "data": {
      "text/plain": [
       "0        viking metal\n",
       "1           candy pop\n",
       "2           deep funk\n",
       "3    classic arab pop\n",
       "4              jungle\n",
       "Name: genres, dtype: object"
      ]
     },
     "execution_count": 32,
     "metadata": {},
     "output_type": "execute_result"
    }
   ],
   "source": [
    "genres_series.head()"
   ]
  },
  {
   "cell_type": "markdown",
   "metadata": {},
   "source": [
    "# 2. Getting meta data"
   ]
  },
  {
   "cell_type": "markdown",
   "metadata": {},
   "source": [
    "## 2.1. Loading dataset with albumID and dropping duplicates"
   ]
  },
  {
   "cell_type": "code",
   "execution_count": 3,
   "metadata": {},
   "outputs": [],
   "source": [
    "data_folder = '../../data/'\n",
    "data_main = 'MSD/main/'\n",
    "data_date = 'MSD/main/dates_data/'\n",
    "data_meta = 'MSD/main/meta/'"
   ]
  },
  {
   "cell_type": "code",
   "execution_count": 7,
   "metadata": {},
   "outputs": [
    {
     "name": "stdout",
     "output_type": "stream",
     "text": [
      "(30435, 2)\n"
     ]
    },
    {
     "data": {
      "text/html": [
       "<div>\n",
       "<style scoped>\n",
       "    .dataframe tbody tr th:only-of-type {\n",
       "        vertical-align: middle;\n",
       "    }\n",
       "\n",
       "    .dataframe tbody tr th {\n",
       "        vertical-align: top;\n",
       "    }\n",
       "\n",
       "    .dataframe thead th {\n",
       "        text-align: right;\n",
       "    }\n",
       "</style>\n",
       "<table border=\"1\" class=\"dataframe\">\n",
       "  <thead>\n",
       "    <tr style=\"text-align: right;\">\n",
       "      <th></th>\n",
       "      <th>albumID</th>\n",
       "      <th>artistID</th>\n",
       "    </tr>\n",
       "  </thead>\n",
       "  <tbody>\n",
       "    <tr>\n",
       "      <th>0</th>\n",
       "      <td>3jq7b66l8MswqDmi0mxzjq</td>\n",
       "      <td>3uOCouLFR4bVx0XeiQJSbl</td>\n",
       "    </tr>\n",
       "    <tr>\n",
       "      <th>1</th>\n",
       "      <td>0upTl2RUS4gmStWBlXjt9l</td>\n",
       "      <td>65Gh3BfK84aTIugiRCgLBA</td>\n",
       "    </tr>\n",
       "    <tr>\n",
       "      <th>2</th>\n",
       "      <td>7uvLu2RAki7aKiASSxJPzi</td>\n",
       "      <td>6rSpV5hdCNJ4v1i602nj22</td>\n",
       "    </tr>\n",
       "    <tr>\n",
       "      <th>3</th>\n",
       "      <td>4apgpVOan95H6xvIDAfX44</td>\n",
       "      <td>15Rn3v2LgUxR0donJY8e1E</td>\n",
       "    </tr>\n",
       "    <tr>\n",
       "      <th>4</th>\n",
       "      <td>0iHug1S696AsitJpyUr4T6</td>\n",
       "      <td>0X0TajZO1RmY3D8u1JymYq</td>\n",
       "    </tr>\n",
       "  </tbody>\n",
       "</table>\n",
       "</div>"
      ],
      "text/plain": [
       "                  albumID                artistID\n",
       "0  3jq7b66l8MswqDmi0mxzjq  3uOCouLFR4bVx0XeiQJSbl\n",
       "1  0upTl2RUS4gmStWBlXjt9l  65Gh3BfK84aTIugiRCgLBA\n",
       "2  7uvLu2RAki7aKiASSxJPzi  6rSpV5hdCNJ4v1i602nj22\n",
       "3  4apgpVOan95H6xvIDAfX44  15Rn3v2LgUxR0donJY8e1E\n",
       "4  0iHug1S696AsitJpyUr4T6  0X0TajZO1RmY3D8u1JymYq"
      ]
     },
     "execution_count": 7,
     "metadata": {},
     "output_type": "execute_result"
    }
   ],
   "source": [
    "# Loading 'tracks' dataset\n",
    "tracks = pd.read_csv(data_folder+data_main+'songs_features_final.csv', \n",
    "                        index_col=0, encoding='utf-8')\n",
    "\n",
    "# Dropping duplicates in 'albumID' column\n",
    "tracks = tracks[['albumID', 'artistID']].drop_duplicates(subset=['albumID'])\\\n",
    "                                        .dropna(subset=['albumID']).reset_index(drop=True)\n",
    "\n",
    "print(tracks.shape)\n",
    "tracks.head()"
   ]
  },
  {
   "cell_type": "code",
   "execution_count": 62,
   "metadata": {},
   "outputs": [
    {
     "name": "stdout",
     "output_type": "stream",
     "text": [
      "(1000, 4)\n"
     ]
    },
    {
     "data": {
      "text/html": [
       "<div>\n",
       "<style scoped>\n",
       "    .dataframe tbody tr th:only-of-type {\n",
       "        vertical-align: middle;\n",
       "    }\n",
       "\n",
       "    .dataframe tbody tr th {\n",
       "        vertical-align: top;\n",
       "    }\n",
       "\n",
       "    .dataframe thead th {\n",
       "        text-align: right;\n",
       "    }\n",
       "</style>\n",
       "<table border=\"1\" class=\"dataframe\">\n",
       "  <thead>\n",
       "    <tr style=\"text-align: right;\">\n",
       "      <th></th>\n",
       "      <th>artistID</th>\n",
       "      <th>artistName</th>\n",
       "      <th>artistFollowers</th>\n",
       "      <th>genres</th>\n",
       "    </tr>\n",
       "  </thead>\n",
       "  <tbody>\n",
       "    <tr>\n",
       "      <th>0</th>\n",
       "      <td>3uOCouLFR4bVx0XeiQJSbl</td>\n",
       "      <td>Harold Budd</td>\n",
       "      <td>30414</td>\n",
       "      <td>['ambient', 'american contemporary classical',...</td>\n",
       "    </tr>\n",
       "    <tr>\n",
       "      <th>1</th>\n",
       "      <td>65Gh3BfK84aTIugiRCgLBA</td>\n",
       "      <td>Dave Edmunds</td>\n",
       "      <td>28604</td>\n",
       "      <td>['blues-rock', 'british blues', 'power pop', '...</td>\n",
       "    </tr>\n",
       "    <tr>\n",
       "      <th>2</th>\n",
       "      <td>6rSpV5hdCNJ4v1i602nj22</td>\n",
       "      <td>LANDA DANIEL</td>\n",
       "      <td>794</td>\n",
       "      <td>[]</td>\n",
       "    </tr>\n",
       "    <tr>\n",
       "      <th>3</th>\n",
       "      <td>15Rn3v2LgUxR0donJY8e1E</td>\n",
       "      <td>I Love You But I've Chosen Darkness</td>\n",
       "      <td>6603</td>\n",
       "      <td>['austindie']</td>\n",
       "    </tr>\n",
       "    <tr>\n",
       "      <th>4</th>\n",
       "      <td>0X0TajZO1RmY3D8u1JymYq</td>\n",
       "      <td>Au Revoir Simone</td>\n",
       "      <td>61008</td>\n",
       "      <td>['brooklyn indie', 'indie pop']</td>\n",
       "    </tr>\n",
       "  </tbody>\n",
       "</table>\n",
       "</div>"
      ],
      "text/plain": [
       "                 artistID                           artistName  \\\n",
       "0  3uOCouLFR4bVx0XeiQJSbl                          Harold Budd   \n",
       "1  65Gh3BfK84aTIugiRCgLBA                         Dave Edmunds   \n",
       "2  6rSpV5hdCNJ4v1i602nj22                         LANDA DANIEL   \n",
       "3  15Rn3v2LgUxR0donJY8e1E  I Love You But I've Chosen Darkness   \n",
       "4  0X0TajZO1RmY3D8u1JymYq                     Au Revoir Simone   \n",
       "\n",
       "   artistFollowers                                             genres  \n",
       "0            30414  ['ambient', 'american contemporary classical',...  \n",
       "1            28604  ['blues-rock', 'british blues', 'power pop', '...  \n",
       "2              794                                                 []  \n",
       "3             6603                                      ['austindie']  \n",
       "4            61008                    ['brooklyn indie', 'indie pop']  "
      ]
     },
     "execution_count": 62,
     "metadata": {},
     "output_type": "execute_result"
    }
   ],
   "source": [
    "# Loading 'genres' dataset\n",
    "genres = pd.read_csv(data_folder+data_meta+'artistGenres_data.csv', \n",
    "                        index_col=0, encoding='utf-8', nrows=1000)\n",
    "\n",
    "print(genres.shape)\n",
    "genres.head()"
   ]
  },
  {
   "cell_type": "markdown",
   "metadata": {},
   "source": [
    "## 2.2. Getting Dates"
   ]
  },
  {
   "cell_type": "code",
   "execution_count": 8,
   "metadata": {},
   "outputs": [],
   "source": [
    "def dateSpotify(features_df):\n",
    "    '''\n",
    "    Gets genre, artist's followers for each track id.\n",
    "    \n",
    "        Return:\n",
    "            Data frame containing genre and artist's followers information\n",
    "        Parameters:\n",
    "            - features_df: dataframe containing ('trackId','artistID') pairs\n",
    "    '''\n",
    "    global sp\n",
    "    global step_size\n",
    "    \n",
    "    # Making a copy of 'features_df'\n",
    "    features_df = features_df.reset_index(drop=True).copy()\n",
    "    \n",
    "    # Initializing the genres dataframe lists\n",
    "    albumID = []\n",
    "    date_r = []\n",
    "    \n",
    "    # Initializing tqdm\n",
    "    total = features_df.shape[0]\n",
    "    pbar = tqdm.tqdm(total=total)\n",
    "    \n",
    "    # pattern for regex\n",
    "    pattern = r'(\\d{3}[^-])'\n",
    "    \n",
    "    while not features_df.empty:\n",
    "        try:\n",
    "            album_info = sp.albums(albums=features_df.loc[:step_size,'albumID'])\n",
    "        except:\n",
    "            print('Error in getting Artists info!!   Countdown has started...')\n",
    "            time.sleep(15)\n",
    "            # Getting the tocken for authentication\n",
    "            token = util.prompt_for_user_token(username, scope, client_id=client_id , \n",
    "                                               client_secret=client_secret, redirect_uri='http://google.com/')\n",
    "\n",
    "            try: # Test whether the authentication credentials are valid, if yes create Spotipy object \n",
    "                sp = spotipy.Spotify(auth=token)\n",
    "            except:\n",
    "                print('There is problem with Token!')\n",
    "            try:\n",
    "                album_info = sp.albums(albums=features_df.loc[:step_size,'albumID'])\n",
    "            except:\n",
    "                print('There is problem with on of these ArtistIDs: \\n{}\\n**********************\\n'\n",
    "                      .format(features_df.loc[:step_size,'artistID']))\n",
    "                album_info = {'albums': [None]}\n",
    "        \n",
    "        # Getting list of artists info\n",
    "        album_info = album_info['albums']\n",
    "        \n",
    "        for i, item in enumerate(album_info):\n",
    "            if item:\n",
    "                if item['release_date']:\n",
    "                    # Adding to lists\n",
    "                    albumID.append(item['id'])\n",
    "                    date_r.append(re.match(pattern, item['release_date'])[1])\n",
    "            else:\n",
    "                print('Problem in item: \\n{}'.format(json.dumps(item, indent=4)))\n",
    "        # Updating\n",
    "        pbar.update(min(step_size, features_df.shape[0]))\n",
    "        features_df = features_df.iloc[step_size:,:].reset_index(drop=True).copy()\n",
    "    \n",
    "    # Closing tqdm\n",
    "    pbar.close()\n",
    "        \n",
    "    # Defining the 'genres_df'\n",
    "    dates_df = pd.DataFrame(dict(albumID=albumID,\n",
    "                                  releaseDate=date_r))\n",
    "\n",
    "    return dates_df"
   ]
  },
  {
   "cell_type": "code",
   "execution_count": 9,
   "metadata": {},
   "outputs": [
    {
     "name": "stderr",
     "output_type": "stream",
     "text": [
      " 12%|█▏        | 3800/30435 [00:17<01:57, 225.75it/s]"
     ]
    },
    {
     "name": "stdout",
     "output_type": "stream",
     "text": [
      "retrying ...1secs\n",
      "retrying ...1secs\n"
     ]
    },
    {
     "name": "stderr",
     "output_type": "stream",
     "text": [
      " 19%|█▊        | 5700/30435 [00:28<01:56, 211.79it/s]"
     ]
    },
    {
     "name": "stdout",
     "output_type": "stream",
     "text": [
      "retrying ...1secs\n"
     ]
    },
    {
     "name": "stderr",
     "output_type": "stream",
     "text": [
      " 25%|██▍       | 7600/30435 [00:38<01:42, 222.61it/s]"
     ]
    },
    {
     "name": "stdout",
     "output_type": "stream",
     "text": [
      "retrying ...1secs\n"
     ]
    },
    {
     "name": "stderr",
     "output_type": "stream",
     "text": [
      " 31%|███       | 9500/30435 [00:47<01:31, 228.59it/s]"
     ]
    },
    {
     "name": "stdout",
     "output_type": "stream",
     "text": [
      "retrying ...1secs\n"
     ]
    },
    {
     "name": "stderr",
     "output_type": "stream",
     "text": [
      " 52%|█████▏    | 15846/30435 [01:16<01:02, 235.16it/s]"
     ]
    },
    {
     "name": "stdout",
     "output_type": "stream",
     "text": [
      "retrying ...1secs\n",
      "retrying ...1secs\n"
     ]
    },
    {
     "name": "stderr",
     "output_type": "stream",
     "text": [
      " 58%|█████▊    | 17746/30435 [01:27<00:56, 224.21it/s]"
     ]
    },
    {
     "name": "stdout",
     "output_type": "stream",
     "text": [
      "retrying ...1secs\n",
      "retrying ...1secs\n"
     ]
    },
    {
     "name": "stderr",
     "output_type": "stream",
     "text": [
      " 64%|██████▍   | 19627/30435 [01:37<00:49, 220.04it/s]"
     ]
    },
    {
     "name": "stdout",
     "output_type": "stream",
     "text": [
      "retrying ...1secs\n"
     ]
    },
    {
     "name": "stderr",
     "output_type": "stream",
     "text": [
      " 78%|███████▊  | 23693/30435 [01:56<00:28, 238.87it/s]"
     ]
    },
    {
     "name": "stdout",
     "output_type": "stream",
     "text": [
      "retrying ...1secs\n",
      "retrying ...1secs\n"
     ]
    },
    {
     "name": "stderr",
     "output_type": "stream",
     "text": [
      " 92%|█████████▏| 27911/30435 [02:16<00:10, 234.50it/s]"
     ]
    },
    {
     "name": "stdout",
     "output_type": "stream",
     "text": [
      "retrying ...1secs\n",
      "retrying ...1secs\n"
     ]
    },
    {
     "name": "stderr",
     "output_type": "stream",
     "text": [
      " 98%|█████████▊| 29830/30435 [02:26<00:02, 250.86it/s]"
     ]
    },
    {
     "name": "stdout",
     "output_type": "stream",
     "text": [
      "retrying ...1secs\n",
      "retrying ...1secs\n"
     ]
    },
    {
     "name": "stderr",
     "output_type": "stream",
     "text": [
      "100%|██████████| 30435/30435 [02:31<00:00, 240.00it/s]\n"
     ]
    },
    {
     "data": {
      "text/html": [
       "<div>\n",
       "<style scoped>\n",
       "    .dataframe tbody tr th:only-of-type {\n",
       "        vertical-align: middle;\n",
       "    }\n",
       "\n",
       "    .dataframe tbody tr th {\n",
       "        vertical-align: top;\n",
       "    }\n",
       "\n",
       "    .dataframe thead th {\n",
       "        text-align: right;\n",
       "    }\n",
       "</style>\n",
       "<table border=\"1\" class=\"dataframe\">\n",
       "  <thead>\n",
       "    <tr style=\"text-align: right;\">\n",
       "      <th></th>\n",
       "      <th>albumID</th>\n",
       "      <th>releaseDate</th>\n",
       "    </tr>\n",
       "  </thead>\n",
       "  <tbody>\n",
       "    <tr>\n",
       "      <th>0</th>\n",
       "      <td>3jq7b66l8MswqDmi0mxzjq</td>\n",
       "      <td>2000</td>\n",
       "    </tr>\n",
       "    <tr>\n",
       "      <th>1</th>\n",
       "      <td>0upTl2RUS4gmStWBlXjt9l</td>\n",
       "      <td>1981</td>\n",
       "    </tr>\n",
       "    <tr>\n",
       "      <th>2</th>\n",
       "      <td>7uvLu2RAki7aKiASSxJPzi</td>\n",
       "      <td>2003</td>\n",
       "    </tr>\n",
       "    <tr>\n",
       "      <th>3</th>\n",
       "      <td>4apgpVOan95H6xvIDAfX44</td>\n",
       "      <td>2003</td>\n",
       "    </tr>\n",
       "    <tr>\n",
       "      <th>4</th>\n",
       "      <td>0iHug1S696AsitJpyUr4T6</td>\n",
       "      <td>2009</td>\n",
       "    </tr>\n",
       "  </tbody>\n",
       "</table>\n",
       "</div>"
      ],
      "text/plain": [
       "                  albumID releaseDate\n",
       "0  3jq7b66l8MswqDmi0mxzjq        2000\n",
       "1  0upTl2RUS4gmStWBlXjt9l        1981\n",
       "2  7uvLu2RAki7aKiASSxJPzi        2003\n",
       "3  4apgpVOan95H6xvIDAfX44        2003\n",
       "4  0iHug1S696AsitJpyUr4T6        2009"
      ]
     },
     "execution_count": 9,
     "metadata": {},
     "output_type": "execute_result"
    }
   ],
   "source": [
    "###########################################\n",
    "######  Initializing Spotify Object  ######\n",
    "###########################################\n",
    "\n",
    "# Defining Authentication credentials\n",
    "scope = 'user-library-read' # You can change the scope based on your usage\n",
    "username = \"\" # Put the user's username\n",
    "client_id = '' #Provide the client id from your own Spotify developer \n",
    "client_secret = '' #Provide the client secret from your own Spotify developer\n",
    "\n",
    "# Getting the authentication tocken\n",
    "token = util.prompt_for_user_token(username, scope, client_id=client_id,\n",
    "                                   client_secret=client_secret, redirect_uri='http://google.com/')\n",
    "# Initializing Spotify Object\n",
    "sp = spotipy.Spotify(auth=token)\n",
    "\n",
    "# Step size: maximum is 20 for albums request\n",
    "step_size = 19\n",
    "\n",
    "# Getting Audio features\n",
    "dates_df = dateSpotify(tracks)\n",
    "\n",
    "# Saving audio features dataframe\n",
    "dates_df.to_csv(data_folder+data_meta+'album_dates.csv', encoding='utf-8', index=True)\n",
    "\n",
    "dates_df.head()"
   ]
  }
 ],
 "metadata": {
  "kernelspec": {
   "display_name": "Python 3",
   "language": "python",
   "name": "python3"
  },
  "language_info": {
   "codemirror_mode": {
    "name": "ipython",
    "version": 3
   },
   "file_extension": ".py",
   "mimetype": "text/x-python",
   "name": "python",
   "nbconvert_exporter": "python",
   "pygments_lexer": "ipython3",
   "version": "3.6.5"
  }
 },
 "nbformat": 4,
 "nbformat_minor": 2
}
