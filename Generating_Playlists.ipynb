{
 "cells": [
  {
   "cell_type": "code",
   "execution_count": 242,
   "metadata": {},
   "outputs": [],
   "source": [
    "import pandas as pd\n",
    "import numpy as np\n",
    "import networkx as nx\n",
    "\n",
    "from sklearn.utils import extmath\n",
    "import scipy\n",
    "from scipy.spatial.distance import pdist, squareform\n",
    "from scipy import sparse, stats, spatial\n",
    "from scipy.sparse import csr_matrix\n",
    "from pandas.api.types import CategoricalDtype\n",
    "from scipy.spatial.distance import cdist, squareform\n",
    "from sklearn.preprocessing import StandardScaler\n",
    "from sklearn.decomposition import NMF\n",
    "\n",
    "import matplotlib.pyplot as plt\n",
    "import seaborn as sns\n",
    "sns.set()"
   ]
  },
  {
   "cell_type": "code",
   "execution_count": 2,
   "metadata": {},
   "outputs": [],
   "source": [
    "data_folder = './data/Main/'"
   ]
  },
  {
   "cell_type": "markdown",
   "metadata": {},
   "source": [
    "# 1. Preparing necessary datasets"
   ]
  },
  {
   "cell_type": "markdown",
   "metadata": {},
   "source": [
    "## 1.1. Loading tracks metadata"
   ]
  },
  {
   "cell_type": "code",
   "execution_count": 4,
   "metadata": {},
   "outputs": [
    {
     "name": "stdout",
     "output_type": "stream",
     "text": [
      "(64500, 14)\n"
     ]
    },
    {
     "data": {
      "text/html": [
       "<div>\n",
       "<style scoped>\n",
       "    .dataframe tbody tr th:only-of-type {\n",
       "        vertical-align: middle;\n",
       "    }\n",
       "\n",
       "    .dataframe tbody tr th {\n",
       "        vertical-align: top;\n",
       "    }\n",
       "\n",
       "    .dataframe thead th {\n",
       "        text-align: right;\n",
       "    }\n",
       "</style>\n",
       "<table border=\"1\" class=\"dataframe\">\n",
       "  <thead>\n",
       "    <tr style=\"text-align: right;\">\n",
       "      <th></th>\n",
       "      <th>trackID</th>\n",
       "      <th>trackTitle</th>\n",
       "      <th>artistName</th>\n",
       "      <th>trackPopularity</th>\n",
       "      <th>releaseDate</th>\n",
       "      <th>artistFollowers</th>\n",
       "      <th>topGenre1</th>\n",
       "      <th>topGenre2</th>\n",
       "      <th>artistID</th>\n",
       "      <th>albumID</th>\n",
       "      <th>songID</th>\n",
       "      <th>audio_Duration_ms</th>\n",
       "      <th>set_subset</th>\n",
       "      <th>set_split</th>\n",
       "    </tr>\n",
       "  </thead>\n",
       "  <tbody>\n",
       "    <tr>\n",
       "      <th>0</th>\n",
       "      <td>0</td>\n",
       "      <td>The Room Of Stairs</td>\n",
       "      <td>Harold Budd</td>\n",
       "      <td>11.0</td>\n",
       "      <td>2000</td>\n",
       "      <td>30414.0</td>\n",
       "      <td>Electronic/Dance</td>\n",
       "      <td>Classical</td>\n",
       "      <td>3uOCouLFR4bVx0XeiQJSbl</td>\n",
       "      <td>3jq7b66l8MswqDmi0mxzjq</td>\n",
       "      <td>SOAAADD12AB018A9DD</td>\n",
       "      <td>321133</td>\n",
       "      <td>medium</td>\n",
       "      <td>train</td>\n",
       "    </tr>\n",
       "    <tr>\n",
       "      <th>1</th>\n",
       "      <td>1</td>\n",
       "      <td>(I'm Gonna Start) Living Again If It Kills Me</td>\n",
       "      <td>Dave Edmunds</td>\n",
       "      <td>5.0</td>\n",
       "      <td>1981</td>\n",
       "      <td>28604.0</td>\n",
       "      <td>Rock</td>\n",
       "      <td>Blues</td>\n",
       "      <td>65Gh3BfK84aTIugiRCgLBA</td>\n",
       "      <td>0upTl2RUS4gmStWBlXjt9l</td>\n",
       "      <td>SOAAADE12A6D4F80CC</td>\n",
       "      <td>199088</td>\n",
       "      <td>medium</td>\n",
       "      <td>train</td>\n",
       "    </tr>\n",
       "    <tr>\n",
       "      <th>2</th>\n",
       "      <td>2</td>\n",
       "      <td>KRYSAR (LIVE)</td>\n",
       "      <td>LANDA DANIEL</td>\n",
       "      <td>15.0</td>\n",
       "      <td>2003</td>\n",
       "      <td>NaN</td>\n",
       "      <td>NaN</td>\n",
       "      <td>NaN</td>\n",
       "      <td>6rSpV5hdCNJ4v1i602nj22</td>\n",
       "      <td>7uvLu2RAki7aKiASSxJPzi</td>\n",
       "      <td>SOAAADF12A8C13DF62</td>\n",
       "      <td>200880</td>\n",
       "      <td>medium</td>\n",
       "      <td>train</td>\n",
       "    </tr>\n",
       "  </tbody>\n",
       "</table>\n",
       "</div>"
      ],
      "text/plain": [
       "   trackID                                     trackTitle    artistName  \\\n",
       "0        0                             The Room Of Stairs   Harold Budd   \n",
       "1        1  (I'm Gonna Start) Living Again If It Kills Me  Dave Edmunds   \n",
       "2        2                                  KRYSAR (LIVE)  LANDA DANIEL   \n",
       "\n",
       "   trackPopularity  releaseDate  artistFollowers         topGenre1  topGenre2  \\\n",
       "0             11.0         2000          30414.0  Electronic/Dance  Classical   \n",
       "1              5.0         1981          28604.0              Rock      Blues   \n",
       "2             15.0         2003              NaN               NaN        NaN   \n",
       "\n",
       "                 artistID                 albumID              songID  \\\n",
       "0  3uOCouLFR4bVx0XeiQJSbl  3jq7b66l8MswqDmi0mxzjq  SOAAADD12AB018A9DD   \n",
       "1  65Gh3BfK84aTIugiRCgLBA  0upTl2RUS4gmStWBlXjt9l  SOAAADE12A6D4F80CC   \n",
       "2  6rSpV5hdCNJ4v1i602nj22  7uvLu2RAki7aKiASSxJPzi  SOAAADF12A8C13DF62   \n",
       "\n",
       "   audio_Duration_ms set_subset set_split  \n",
       "0             321133     medium     train  \n",
       "1             199088     medium     train  \n",
       "2             200880     medium     train  "
      ]
     },
     "execution_count": 4,
     "metadata": {},
     "output_type": "execute_result"
    }
   ],
   "source": [
    "# Loading 'tracks' dataset\n",
    "tracks = pd.read_csv(data_folder+'tracks.csv', \n",
    "                        index_col=0, encoding='utf-8', low_memory=False)\n",
    "\n",
    "### Mapping trackID to numeric ID\n",
    "\n",
    "# Getting unique trackID\n",
    "unique_trackID = tracks.trackID.unique()\n",
    "\n",
    "# Creating a dictionary to assign numeric ID to each trackID\n",
    "dict_trackID = dict(zip(unique_trackID, range(unique_trackID.size)))\n",
    "\n",
    "# Mapping trackID to numeric ID using 'dict_trackID' dictionary\n",
    "tracks['trackID'] = tracks.trackID.map(dict_trackID)\n",
    "\n",
    "print(tracks.shape)\n",
    "tracks.head(3)"
   ]
  },
  {
   "cell_type": "code",
   "execution_count": 5,
   "metadata": {},
   "outputs": [],
   "source": [
    "# Loading filtered tracks dataset\n",
    "tracks_s = pd.read_csv(data_folder+'tracks_filtered.csv', encoding='utf-8', index_col=0, low_memory=False)"
   ]
  },
  {
   "cell_type": "markdown",
   "metadata": {},
   "source": [
    "## 1.2. User profile data"
   ]
  },
  {
   "cell_type": "code",
   "execution_count": 6,
   "metadata": {},
   "outputs": [
    {
     "name": "stderr",
     "output_type": "stream",
     "text": [
      "/root/anaconda3/lib/python3.6/site-packages/numpy/lib/arraysetops.py:472: FutureWarning: elementwise comparison failed; returning scalar instead, but in the future will perform elementwise comparison\n",
      "  mask |= (ar1 == a)\n"
     ]
    },
    {
     "name": "stdout",
     "output_type": "stream",
     "text": [
      "(4911782, 4)\n"
     ]
    },
    {
     "data": {
      "text/html": [
       "<div>\n",
       "<style scoped>\n",
       "    .dataframe tbody tr th:only-of-type {\n",
       "        vertical-align: middle;\n",
       "    }\n",
       "\n",
       "    .dataframe tbody tr th {\n",
       "        vertical-align: top;\n",
       "    }\n",
       "\n",
       "    .dataframe thead th {\n",
       "        text-align: right;\n",
       "    }\n",
       "</style>\n",
       "<table border=\"1\" class=\"dataframe\">\n",
       "  <thead>\n",
       "    <tr style=\"text-align: right;\">\n",
       "      <th></th>\n",
       "      <th>userID</th>\n",
       "      <th>songID</th>\n",
       "      <th>counts</th>\n",
       "      <th>trackID</th>\n",
       "    </tr>\n",
       "  </thead>\n",
       "  <tbody>\n",
       "    <tr>\n",
       "      <th>0</th>\n",
       "      <td>b80344d063b5ccb3212f76538f3d9e43d87dca9e</td>\n",
       "      <td>SOBSUJE12A6D4F8CF5</td>\n",
       "      <td>2</td>\n",
       "      <td>2ECKXkpPAxky87ohawpaeD</td>\n",
       "    </tr>\n",
       "    <tr>\n",
       "      <th>1</th>\n",
       "      <td>b80344d063b5ccb3212f76538f3d9e43d87dca9e</td>\n",
       "      <td>SOBVFZR12A6D4F8AE3</td>\n",
       "      <td>1</td>\n",
       "      <td>5WjXULJvSlMxuies9diz1Q</td>\n",
       "    </tr>\n",
       "    <tr>\n",
       "      <th>2</th>\n",
       "      <td>b80344d063b5ccb3212f76538f3d9e43d87dca9e</td>\n",
       "      <td>SOBXALG12A8C13C108</td>\n",
       "      <td>1</td>\n",
       "      <td>1bqi9YEdZweX9H6JuSQ6Qw</td>\n",
       "    </tr>\n",
       "  </tbody>\n",
       "</table>\n",
       "</div>"
      ],
      "text/plain": [
       "                                     userID              songID  counts  \\\n",
       "0  b80344d063b5ccb3212f76538f3d9e43d87dca9e  SOBSUJE12A6D4F8CF5       2   \n",
       "1  b80344d063b5ccb3212f76538f3d9e43d87dca9e  SOBVFZR12A6D4F8AE3       1   \n",
       "2  b80344d063b5ccb3212f76538f3d9e43d87dca9e  SOBXALG12A8C13C108       1   \n",
       "\n",
       "                  trackID  \n",
       "0  2ECKXkpPAxky87ohawpaeD  \n",
       "1  5WjXULJvSlMxuies9diz1Q  \n",
       "2  1bqi9YEdZweX9H6JuSQ6Qw  "
      ]
     },
     "execution_count": 6,
     "metadata": {},
     "output_type": "execute_result"
    }
   ],
   "source": [
    "# Loading playlists dataset\n",
    "user_profile = pd.read_csv(data_folder+'userProfile.csv', \n",
    "                        index_col=0, encoding='utf-8', low_memory=False)\n",
    "\n",
    "# Keeping only tracks that exists in tracks dataframe\n",
    "user_profile = user_profile[user_profile.trackID.isin(list(dict_trackID.keys()))]\n",
    "\n",
    "print(user_profile.shape)\n",
    "user_profile.head(3)"
   ]
  },
  {
   "cell_type": "code",
   "execution_count": 7,
   "metadata": {},
   "outputs": [
    {
     "data": {
      "text/html": [
       "<div>\n",
       "<style scoped>\n",
       "    .dataframe tbody tr th:only-of-type {\n",
       "        vertical-align: middle;\n",
       "    }\n",
       "\n",
       "    .dataframe tbody tr th {\n",
       "        vertical-align: top;\n",
       "    }\n",
       "\n",
       "    .dataframe thead th {\n",
       "        text-align: right;\n",
       "    }\n",
       "</style>\n",
       "<table border=\"1\" class=\"dataframe\">\n",
       "  <thead>\n",
       "    <tr style=\"text-align: right;\">\n",
       "      <th></th>\n",
       "      <th>userID</th>\n",
       "      <th>trackID</th>\n",
       "      <th>counts</th>\n",
       "    </tr>\n",
       "  </thead>\n",
       "  <tbody>\n",
       "    <tr>\n",
       "      <th>0</th>\n",
       "      <td>0</td>\n",
       "      <td>10544</td>\n",
       "      <td>2</td>\n",
       "    </tr>\n",
       "    <tr>\n",
       "      <th>1</th>\n",
       "      <td>0</td>\n",
       "      <td>10979</td>\n",
       "      <td>1</td>\n",
       "    </tr>\n",
       "    <tr>\n",
       "      <th>2</th>\n",
       "      <td>0</td>\n",
       "      <td>11263</td>\n",
       "      <td>1</td>\n",
       "    </tr>\n",
       "    <tr>\n",
       "      <th>3</th>\n",
       "      <td>0</td>\n",
       "      <td>23923</td>\n",
       "      <td>1</td>\n",
       "    </tr>\n",
       "  </tbody>\n",
       "</table>\n",
       "</div>"
      ],
      "text/plain": [
       "   userID  trackID  counts\n",
       "0       0    10544       2\n",
       "1       0    10979       1\n",
       "2       0    11263       1\n",
       "3       0    23923       1"
      ]
     },
     "execution_count": 7,
     "metadata": {},
     "output_type": "execute_result"
    }
   ],
   "source": [
    "### Mapping userID to numeric ID\n",
    "\n",
    "# getting unique userID\n",
    "unique_userID = user_profile.userID.unique()\n",
    "\n",
    "# Creating a dictionary to assign numeric ID to current user ID\n",
    "dict_userID = dict(zip(unique_userID, range(unique_userID.size)))\n",
    "\n",
    "# Mapping userID using prepared dictionary\n",
    "user_profile.userID = user_profile.userID.map(dict_userID)\n",
    "\n",
    "# Mapping trackID to numeric ID using 'dict_trackID' dictionary\n",
    "user_profile.trackID = user_profile.trackID.map(dict_trackID)\n",
    "\n",
    "user_profile = user_profile[['userID', 'trackID', 'counts']]\n",
    "\n",
    "user_profile.head(4)"
   ]
  },
  {
   "cell_type": "code",
   "execution_count": 8,
   "metadata": {},
   "outputs": [
    {
     "name": "stdout",
     "output_type": "stream",
     "text": [
      "Number of unique songs ID: 64500\n"
     ]
    }
   ],
   "source": [
    "print('Number of unique songs ID: {}'.format(user_profile.trackID.unique().shape[0]))"
   ]
  },
  {
   "cell_type": "code",
   "execution_count": 9,
   "metadata": {},
   "outputs": [
    {
     "name": "stderr",
     "output_type": "stream",
     "text": [
      "/root/anaconda3/lib/python3.6/site-packages/numpy/lib/arraysetops.py:472: FutureWarning: elementwise comparison failed; returning scalar instead, but in the future will perform elementwise comparison\n",
      "  mask |= (ar1 == a)\n"
     ]
    }
   ],
   "source": [
    "# Loading the saved mapped 'user_profile'\n",
    "user_profile_s = pd.read_csv(data_folder+'user_profile_mapped_s.csv', encoding='utf-8', index_col=0)"
   ]
  },
  {
   "cell_type": "markdown",
   "metadata": {},
   "source": [
    "## 1.3. Audio Features"
   ]
  },
  {
   "cell_type": "code",
   "execution_count": 11,
   "metadata": {},
   "outputs": [
    {
     "name": "stdout",
     "output_type": "stream",
     "text": [
      "(64500, 12)\n"
     ]
    },
    {
     "data": {
      "text/html": [
       "<div>\n",
       "<style scoped>\n",
       "    .dataframe tbody tr th:only-of-type {\n",
       "        vertical-align: middle;\n",
       "    }\n",
       "\n",
       "    .dataframe tbody tr th {\n",
       "        vertical-align: top;\n",
       "    }\n",
       "\n",
       "    .dataframe thead th {\n",
       "        text-align: right;\n",
       "    }\n",
       "</style>\n",
       "<table border=\"1\" class=\"dataframe\">\n",
       "  <thead>\n",
       "    <tr style=\"text-align: right;\">\n",
       "      <th></th>\n",
       "      <th>trackID</th>\n",
       "      <th>audio_Danceability</th>\n",
       "      <th>audio_Energy</th>\n",
       "      <th>audio_Key</th>\n",
       "      <th>audio_Loudness</th>\n",
       "      <th>audio_Mode</th>\n",
       "      <th>audio_Speechiness</th>\n",
       "      <th>audio_Acousticness</th>\n",
       "      <th>audio_Instrumentalness</th>\n",
       "      <th>audio_Liveness</th>\n",
       "      <th>audio_Valence</th>\n",
       "      <th>audio_Tempo</th>\n",
       "    </tr>\n",
       "  </thead>\n",
       "  <tbody>\n",
       "    <tr>\n",
       "      <th>0</th>\n",
       "      <td>0</td>\n",
       "      <td>0.225</td>\n",
       "      <td>0.135</td>\n",
       "      <td>3</td>\n",
       "      <td>-26.040</td>\n",
       "      <td>0</td>\n",
       "      <td>0.0382</td>\n",
       "      <td>0.888</td>\n",
       "      <td>0.6570</td>\n",
       "      <td>0.051</td>\n",
       "      <td>0.0377</td>\n",
       "      <td>81.807</td>\n",
       "    </tr>\n",
       "    <tr>\n",
       "      <th>1</th>\n",
       "      <td>1</td>\n",
       "      <td>0.509</td>\n",
       "      <td>0.347</td>\n",
       "      <td>4</td>\n",
       "      <td>-16.711</td>\n",
       "      <td>1</td>\n",
       "      <td>0.0273</td>\n",
       "      <td>0.273</td>\n",
       "      <td>0.0328</td>\n",
       "      <td>0.298</td>\n",
       "      <td>0.5220</td>\n",
       "      <td>102.604</td>\n",
       "    </tr>\n",
       "    <tr>\n",
       "      <th>2</th>\n",
       "      <td>2</td>\n",
       "      <td>0.339</td>\n",
       "      <td>0.787</td>\n",
       "      <td>9</td>\n",
       "      <td>-6.285</td>\n",
       "      <td>0</td>\n",
       "      <td>0.0539</td>\n",
       "      <td>0.313</td>\n",
       "      <td>0.0196</td>\n",
       "      <td>0.710</td>\n",
       "      <td>0.4200</td>\n",
       "      <td>157.042</td>\n",
       "    </tr>\n",
       "  </tbody>\n",
       "</table>\n",
       "</div>"
      ],
      "text/plain": [
       "   trackID  audio_Danceability  audio_Energy  audio_Key  audio_Loudness  \\\n",
       "0        0               0.225         0.135          3         -26.040   \n",
       "1        1               0.509         0.347          4         -16.711   \n",
       "2        2               0.339         0.787          9          -6.285   \n",
       "\n",
       "   audio_Mode  audio_Speechiness  audio_Acousticness  audio_Instrumentalness  \\\n",
       "0           0             0.0382               0.888                  0.6570   \n",
       "1           1             0.0273               0.273                  0.0328   \n",
       "2           0             0.0539               0.313                  0.0196   \n",
       "\n",
       "   audio_Liveness  audio_Valence  audio_Tempo  \n",
       "0           0.051         0.0377       81.807  \n",
       "1           0.298         0.5220      102.604  \n",
       "2           0.710         0.4200      157.042  "
      ]
     },
     "execution_count": 11,
     "metadata": {},
     "output_type": "execute_result"
    }
   ],
   "source": [
    "# Loading 'audio_features' dataset\n",
    "audio_features = pd.read_csv(data_folder+'audio_features.csv', \n",
    "                        index_col=0, encoding='utf-8', low_memory=False)\n",
    "\n",
    "\n",
    "# Filter audio features to only the songs that exists in trackID\n",
    "audio_features = audio_features[audio_features.trackID.isin(list(dict_trackID.keys()))]\n",
    "\n",
    "# Mapping trackID to numeric ID using 'dict_trackID' dictionary\n",
    "audio_features['trackID'] = audio_features.trackID.map(dict_trackID).astype(int)\n",
    "\n",
    "print(audio_features.shape)\n",
    "audio_features.head(3)"
   ]
  },
  {
   "cell_type": "markdown",
   "metadata": {},
   "source": [
    "## 1.4. Librosa Features"
   ]
  },
  {
   "cell_type": "code",
   "execution_count": 12,
   "metadata": {},
   "outputs": [
    {
     "name": "stdout",
     "output_type": "stream",
     "text": [
      "(64500, 518)\n"
     ]
    },
    {
     "data": {
      "text/html": [
       "<div>\n",
       "<style scoped>\n",
       "    .dataframe tbody tr th:only-of-type {\n",
       "        vertical-align: middle;\n",
       "    }\n",
       "\n",
       "    .dataframe tbody tr th {\n",
       "        vertical-align: top;\n",
       "    }\n",
       "\n",
       "    .dataframe thead th {\n",
       "        text-align: right;\n",
       "    }\n",
       "</style>\n",
       "<table border=\"1\" class=\"dataframe\">\n",
       "  <thead>\n",
       "    <tr style=\"text-align: right;\">\n",
       "      <th></th>\n",
       "      <th>chroma_cens_kurtosis_01</th>\n",
       "      <th>chroma_cens_kurtosis_02</th>\n",
       "      <th>chroma_cens_kurtosis_03</th>\n",
       "      <th>chroma_cens_kurtosis_04</th>\n",
       "      <th>chroma_cens_kurtosis_05</th>\n",
       "      <th>chroma_cens_kurtosis_06</th>\n",
       "      <th>chroma_cens_kurtosis_07</th>\n",
       "      <th>chroma_cens_kurtosis_08</th>\n",
       "      <th>chroma_cens_kurtosis_09</th>\n",
       "      <th>chroma_cens_kurtosis_10</th>\n",
       "      <th>...</th>\n",
       "      <th>tonnetz_std_04</th>\n",
       "      <th>tonnetz_std_05</th>\n",
       "      <th>tonnetz_std_06</th>\n",
       "      <th>zcr_kurtosis_01</th>\n",
       "      <th>zcr_max_01</th>\n",
       "      <th>zcr_mean_01</th>\n",
       "      <th>zcr_median_01</th>\n",
       "      <th>zcr_min_01</th>\n",
       "      <th>zcr_skew_01</th>\n",
       "      <th>zcr_std_01</th>\n",
       "    </tr>\n",
       "  </thead>\n",
       "  <tbody>\n",
       "    <tr>\n",
       "      <th>0</th>\n",
       "      <td>0.720673</td>\n",
       "      <td>4.240027</td>\n",
       "      <td>-0.618995</td>\n",
       "      <td>0.426698</td>\n",
       "      <td>-0.226265</td>\n",
       "      <td>-0.209698</td>\n",
       "      <td>-0.317341</td>\n",
       "      <td>-1.345874</td>\n",
       "      <td>-0.586116</td>\n",
       "      <td>-0.931247</td>\n",
       "      <td>...</td>\n",
       "      <td>0.084099</td>\n",
       "      <td>0.017905</td>\n",
       "      <td>0.017880</td>\n",
       "      <td>3.022421</td>\n",
       "      <td>0.400879</td>\n",
       "      <td>0.093924</td>\n",
       "      <td>0.078125</td>\n",
       "      <td>0.030273</td>\n",
       "      <td>1.610670</td>\n",
       "      <td>0.054095</td>\n",
       "    </tr>\n",
       "    <tr>\n",
       "      <th>1</th>\n",
       "      <td>-0.370662</td>\n",
       "      <td>-0.287299</td>\n",
       "      <td>1.182948</td>\n",
       "      <td>-0.952800</td>\n",
       "      <td>-0.790715</td>\n",
       "      <td>-0.504890</td>\n",
       "      <td>-0.491160</td>\n",
       "      <td>0.696574</td>\n",
       "      <td>0.054538</td>\n",
       "      <td>0.780068</td>\n",
       "      <td>...</td>\n",
       "      <td>0.127805</td>\n",
       "      <td>0.020186</td>\n",
       "      <td>0.023055</td>\n",
       "      <td>13.629067</td>\n",
       "      <td>0.286621</td>\n",
       "      <td>0.046816</td>\n",
       "      <td>0.042969</td>\n",
       "      <td>0.008301</td>\n",
       "      <td>2.550661</td>\n",
       "      <td>0.024498</td>\n",
       "    </tr>\n",
       "    <tr>\n",
       "      <th>2</th>\n",
       "      <td>-0.769198</td>\n",
       "      <td>-0.571088</td>\n",
       "      <td>-0.860308</td>\n",
       "      <td>0.437645</td>\n",
       "      <td>-1.027899</td>\n",
       "      <td>1.226321</td>\n",
       "      <td>-0.928717</td>\n",
       "      <td>1.680385</td>\n",
       "      <td>-1.276514</td>\n",
       "      <td>-0.994085</td>\n",
       "      <td>...</td>\n",
       "      <td>0.084305</td>\n",
       "      <td>0.018808</td>\n",
       "      <td>0.020520</td>\n",
       "      <td>10.252457</td>\n",
       "      <td>0.222168</td>\n",
       "      <td>0.053373</td>\n",
       "      <td>0.049316</td>\n",
       "      <td>0.013184</td>\n",
       "      <td>2.536385</td>\n",
       "      <td>0.023678</td>\n",
       "    </tr>\n",
       "  </tbody>\n",
       "</table>\n",
       "<p>3 rows × 518 columns</p>\n",
       "</div>"
      ],
      "text/plain": [
       "   chroma_cens_kurtosis_01  chroma_cens_kurtosis_02  chroma_cens_kurtosis_03  \\\n",
       "0                 0.720673                 4.240027                -0.618995   \n",
       "1                -0.370662                -0.287299                 1.182948   \n",
       "2                -0.769198                -0.571088                -0.860308   \n",
       "\n",
       "   chroma_cens_kurtosis_04  chroma_cens_kurtosis_05  chroma_cens_kurtosis_06  \\\n",
       "0                 0.426698                -0.226265                -0.209698   \n",
       "1                -0.952800                -0.790715                -0.504890   \n",
       "2                 0.437645                -1.027899                 1.226321   \n",
       "\n",
       "   chroma_cens_kurtosis_07  chroma_cens_kurtosis_08  chroma_cens_kurtosis_09  \\\n",
       "0                -0.317341                -1.345874                -0.586116   \n",
       "1                -0.491160                 0.696574                 0.054538   \n",
       "2                -0.928717                 1.680385                -1.276514   \n",
       "\n",
       "   chroma_cens_kurtosis_10     ...      tonnetz_std_04  tonnetz_std_05  \\\n",
       "0                -0.931247     ...            0.084099        0.017905   \n",
       "1                 0.780068     ...            0.127805        0.020186   \n",
       "2                -0.994085     ...            0.084305        0.018808   \n",
       "\n",
       "   tonnetz_std_06  zcr_kurtosis_01  zcr_max_01  zcr_mean_01  zcr_median_01  \\\n",
       "0        0.017880         3.022421    0.400879     0.093924       0.078125   \n",
       "1        0.023055        13.629067    0.286621     0.046816       0.042969   \n",
       "2        0.020520        10.252457    0.222168     0.053373       0.049316   \n",
       "\n",
       "   zcr_min_01  zcr_skew_01  zcr_std_01  \n",
       "0    0.030273     1.610670    0.054095  \n",
       "1    0.008301     2.550661    0.024498  \n",
       "2    0.013184     2.536385    0.023678  \n",
       "\n",
       "[3 rows x 518 columns]"
      ]
     },
     "execution_count": 12,
     "metadata": {},
     "output_type": "execute_result"
    }
   ],
   "source": [
    "# Loading 'librosa_features' dataset\n",
    "features = pd.read_csv(data_folder+'librosa_features.csv', \n",
    "                        index_col=0, header=[0,1,2], encoding='utf-8', low_memory=False)\n",
    "\n",
    "# Converting multi-index columns to flat index\n",
    "features.columns = [ '_'.join(x) for x in features.columns ]\n",
    "\n",
    "# Filter Librosa feature to the songs that exists in tracks dataframe\n",
    "features = features[features.index.isin(list(dict_trackID.keys()))]\n",
    "\n",
    "# Mapping trackID to numeric ID using 'dict_trackID' dictionary\n",
    "features.index = features.index.map(dict_trackID).astype(int)\n",
    "\n",
    "print(features.shape)\n",
    "features.head(3)"
   ]
  },
  {
   "cell_type": "code",
   "execution_count": 13,
   "metadata": {},
   "outputs": [],
   "source": [
    "# Loading the filtered version of \n",
    "features_s = pd.read_csv(data_folder+'features_filtered.csv', encoding='utf-8', index_col=0, low_memory=False)"
   ]
  },
  {
   "cell_type": "markdown",
   "metadata": {},
   "source": [
    "# 2. Loading songs similarity graph \n",
    "\n",
    "## 2.1. Similarity graph made using Librosa features"
   ]
  },
  {
   "cell_type": "code",
   "execution_count": 15,
   "metadata": {},
   "outputs": [],
   "source": [
    "# Loading the prepared graph\n",
    "G_tracks = nx.read_gpickle(\"similarity_based_on_librosa.gpickle\")"
   ]
  },
  {
   "cell_type": "code",
   "execution_count": 16,
   "metadata": {},
   "outputs": [],
   "source": [
    "# Creating a list of nodes names\n",
    "nodes_name = tracks_s.trackID.values \n",
    "\n",
    "nodes_name = nodes_name[np.isin(nodes_name, list(G_tracks.nodes()))]"
   ]
  },
  {
   "cell_type": "code",
   "execution_count": 35,
   "metadata": {},
   "outputs": [],
   "source": [
    "# Loading weights matrix prepared using Librosa features\n",
    "weights = sparse.load_npz(\"weights_based_on_Librosa.npz\")"
   ]
  },
  {
   "cell_type": "code",
   "execution_count": 17,
   "metadata": {},
   "outputs": [
    {
     "name": "stdout",
     "output_type": "stream",
     "text": [
      "False\n",
      "There are 85 connected components!\n"
     ]
    }
   ],
   "source": [
    "# Checking if the graph is connected\n",
    "print(nx.is_strongly_connected(G_tracks))\n",
    "# Getting the number of Connected components\n",
    "print('There are {} connected components!'.format(nx.number_strongly_connected_components(G_tracks)))"
   ]
  },
  {
   "cell_type": "code",
   "execution_count": 18,
   "metadata": {},
   "outputs": [],
   "source": [
    "# Getting connected components\n",
    "components = []\n",
    "for component in nx.strongly_connected_components(G_tracks):\n",
    "    components.append(component)\n",
    "\n",
    "# Sorting the connected components based on their number of nodes\n",
    "components.sort(key=lambda x: len(x))\n",
    "\n",
    "# Creating a subgraph of G_tracks whihc contains selected songs \n",
    "### (here 500 songs selected in \"creating utility matrix\" step)\n",
    "G_tracks = G_tracks.subgraph(sorted(list(components[-1])))"
   ]
  },
  {
   "cell_type": "markdown",
   "metadata": {},
   "source": [
    "# 2.2.Loading songs similarity network (made from user profile)"
   ]
  },
  {
   "cell_type": "code",
   "execution_count": 19,
   "metadata": {},
   "outputs": [],
   "source": [
    "# Loading the prepared graph\n",
    "G_tracks_h = nx.read_gpickle(\"similarity_based_on_userProfile.gpickle\")"
   ]
  },
  {
   "cell_type": "code",
   "execution_count": 36,
   "metadata": {},
   "outputs": [],
   "source": [
    "# Loading weights matrix prepared using user Profile\n",
    "weights_h = sparse.load_npz(\"weights_based_on_userProfile.npz\")"
   ]
  },
  {
   "cell_type": "markdown",
   "metadata": {},
   "source": [
    "# 3. Creatin utility matrix"
   ]
  },
  {
   "cell_type": "code",
   "execution_count": 20,
   "metadata": {},
   "outputs": [
    {
     "data": {
      "text/html": [
       "<div>\n",
       "<style scoped>\n",
       "    .dataframe tbody tr th:only-of-type {\n",
       "        vertical-align: middle;\n",
       "    }\n",
       "\n",
       "    .dataframe tbody tr th {\n",
       "        vertical-align: top;\n",
       "    }\n",
       "\n",
       "    .dataframe thead th {\n",
       "        text-align: right;\n",
       "    }\n",
       "</style>\n",
       "<table border=\"1\" class=\"dataframe\">\n",
       "  <thead>\n",
       "    <tr style=\"text-align: right;\">\n",
       "      <th></th>\n",
       "      <th>5</th>\n",
       "      <th>10</th>\n",
       "      <th>11</th>\n",
       "      <th>21</th>\n",
       "      <th>22</th>\n",
       "      <th>27</th>\n",
       "      <th>29</th>\n",
       "      <th>41</th>\n",
       "      <th>42</th>\n",
       "      <th>44</th>\n",
       "      <th>...</th>\n",
       "      <th>64443</th>\n",
       "      <th>64447</th>\n",
       "      <th>64455</th>\n",
       "      <th>64459</th>\n",
       "      <th>64460</th>\n",
       "      <th>64461</th>\n",
       "      <th>64468</th>\n",
       "      <th>64473</th>\n",
       "      <th>64488</th>\n",
       "      <th>64490</th>\n",
       "    </tr>\n",
       "  </thead>\n",
       "  <tbody>\n",
       "    <tr>\n",
       "      <th>4</th>\n",
       "      <td>0</td>\n",
       "      <td>0</td>\n",
       "      <td>0</td>\n",
       "      <td>0</td>\n",
       "      <td>0</td>\n",
       "      <td>0.0</td>\n",
       "      <td>0</td>\n",
       "      <td>0</td>\n",
       "      <td>0</td>\n",
       "      <td>0</td>\n",
       "      <td>...</td>\n",
       "      <td>0</td>\n",
       "      <td>0</td>\n",
       "      <td>0</td>\n",
       "      <td>0</td>\n",
       "      <td>0</td>\n",
       "      <td>0</td>\n",
       "      <td>0</td>\n",
       "      <td>0</td>\n",
       "      <td>0</td>\n",
       "      <td>0</td>\n",
       "    </tr>\n",
       "    <tr>\n",
       "      <th>5</th>\n",
       "      <td>0</td>\n",
       "      <td>0</td>\n",
       "      <td>0</td>\n",
       "      <td>0</td>\n",
       "      <td>0</td>\n",
       "      <td>0.0</td>\n",
       "      <td>0</td>\n",
       "      <td>0</td>\n",
       "      <td>0</td>\n",
       "      <td>0</td>\n",
       "      <td>...</td>\n",
       "      <td>0</td>\n",
       "      <td>0</td>\n",
       "      <td>0</td>\n",
       "      <td>0</td>\n",
       "      <td>0</td>\n",
       "      <td>0</td>\n",
       "      <td>0</td>\n",
       "      <td>0</td>\n",
       "      <td>0</td>\n",
       "      <td>0</td>\n",
       "    </tr>\n",
       "    <tr>\n",
       "      <th>6</th>\n",
       "      <td>0</td>\n",
       "      <td>0</td>\n",
       "      <td>0</td>\n",
       "      <td>0</td>\n",
       "      <td>0</td>\n",
       "      <td>0.0</td>\n",
       "      <td>0</td>\n",
       "      <td>0</td>\n",
       "      <td>0</td>\n",
       "      <td>0</td>\n",
       "      <td>...</td>\n",
       "      <td>0</td>\n",
       "      <td>0</td>\n",
       "      <td>0</td>\n",
       "      <td>0</td>\n",
       "      <td>0</td>\n",
       "      <td>0</td>\n",
       "      <td>0</td>\n",
       "      <td>0</td>\n",
       "      <td>0</td>\n",
       "      <td>0</td>\n",
       "    </tr>\n",
       "    <tr>\n",
       "      <th>7</th>\n",
       "      <td>0</td>\n",
       "      <td>0</td>\n",
       "      <td>0</td>\n",
       "      <td>0</td>\n",
       "      <td>0</td>\n",
       "      <td>0.0</td>\n",
       "      <td>0</td>\n",
       "      <td>0</td>\n",
       "      <td>0</td>\n",
       "      <td>0</td>\n",
       "      <td>...</td>\n",
       "      <td>0</td>\n",
       "      <td>0</td>\n",
       "      <td>0</td>\n",
       "      <td>0</td>\n",
       "      <td>0</td>\n",
       "      <td>0</td>\n",
       "      <td>0</td>\n",
       "      <td>0</td>\n",
       "      <td>0</td>\n",
       "      <td>0</td>\n",
       "    </tr>\n",
       "    <tr>\n",
       "      <th>8</th>\n",
       "      <td>0</td>\n",
       "      <td>0</td>\n",
       "      <td>0</td>\n",
       "      <td>0</td>\n",
       "      <td>0</td>\n",
       "      <td>0.0</td>\n",
       "      <td>0</td>\n",
       "      <td>0</td>\n",
       "      <td>0</td>\n",
       "      <td>0</td>\n",
       "      <td>...</td>\n",
       "      <td>0</td>\n",
       "      <td>0</td>\n",
       "      <td>0</td>\n",
       "      <td>0</td>\n",
       "      <td>0</td>\n",
       "      <td>0</td>\n",
       "      <td>0</td>\n",
       "      <td>0</td>\n",
       "      <td>0</td>\n",
       "      <td>0</td>\n",
       "    </tr>\n",
       "  </tbody>\n",
       "</table>\n",
       "<p>5 rows × 12900 columns</p>\n",
       "</div>"
      ],
      "text/plain": [
       "   5      10     11     21     22     27     29     41     42     44     \\\n",
       "4      0      0      0      0      0    0.0      0      0      0      0   \n",
       "5      0      0      0      0      0    0.0      0      0      0      0   \n",
       "6      0      0      0      0      0    0.0      0      0      0      0   \n",
       "7      0      0      0      0      0    0.0      0      0      0      0   \n",
       "8      0      0      0      0      0    0.0      0      0      0      0   \n",
       "\n",
       "   ...    64443  64447  64455  64459  64460  64461  64468  64473  64488  64490  \n",
       "4  ...        0      0      0      0      0      0      0      0      0      0  \n",
       "5  ...        0      0      0      0      0      0      0      0      0      0  \n",
       "6  ...        0      0      0      0      0      0      0      0      0      0  \n",
       "7  ...        0      0      0      0      0      0      0      0      0      0  \n",
       "8  ...        0      0      0      0      0      0      0      0      0      0  \n",
       "\n",
       "[5 rows x 12900 columns]"
      ]
     },
     "execution_count": 20,
     "metadata": {},
     "output_type": "execute_result"
    }
   ],
   "source": [
    "# Creating a sparse matrix from 'user_profile' dataframe\n",
    "userID_cat = CategoricalDtype(user_profile_s.userID.unique(), ordered=True)\n",
    "trackID_cat = CategoricalDtype(nodes_name, ordered=True)\n",
    "\n",
    "row = user_profile_s.userID.astype(userID_cat).cat.codes\n",
    "col = user_profile_s.trackID.astype(trackID_cat).cat.codes\n",
    "sparse_utility = csr_matrix((user_profile_s['counts'], (row, col)), \\\n",
    "                             shape=(userID_cat.categories.size, trackID_cat.categories.size))\n",
    "\n",
    "# Defining the sparse DataFrame\n",
    "utility_df = pd.SparseDataFrame(sparse_utility, \\\n",
    "                         index=userID_cat.categories, \\\n",
    "                         columns=trackID_cat.categories, \\\n",
    "                         default_fill_value=0)\n",
    "\n",
    "utility_df.head()"
   ]
  },
  {
   "cell_type": "markdown",
   "metadata": {},
   "source": [
    "# 4.Exploring most popular songs"
   ]
  },
  {
   "cell_type": "code",
   "execution_count": 95,
   "metadata": {},
   "outputs": [
    {
     "data": {
      "text/html": [
       "<div>\n",
       "<style scoped>\n",
       "    .dataframe tbody tr th:only-of-type {\n",
       "        vertical-align: middle;\n",
       "    }\n",
       "\n",
       "    .dataframe tbody tr th {\n",
       "        vertical-align: top;\n",
       "    }\n",
       "\n",
       "    .dataframe thead th {\n",
       "        text-align: right;\n",
       "    }\n",
       "</style>\n",
       "<table border=\"1\" class=\"dataframe\">\n",
       "  <thead>\n",
       "    <tr style=\"text-align: right;\">\n",
       "      <th></th>\n",
       "      <th>trackID</th>\n",
       "      <th>trackTitle</th>\n",
       "      <th>artistName</th>\n",
       "      <th>trackPopularity</th>\n",
       "      <th>releaseDate</th>\n",
       "      <th>artistFollowers</th>\n",
       "      <th>topGenre1</th>\n",
       "      <th>topGenre2</th>\n",
       "      <th>artistID</th>\n",
       "      <th>albumID</th>\n",
       "      <th>songID</th>\n",
       "      <th>audio_Duration_ms</th>\n",
       "      <th>set_subset</th>\n",
       "      <th>set_split</th>\n",
       "    </tr>\n",
       "  </thead>\n",
       "  <tbody>\n",
       "    <tr>\n",
       "      <th>56819</th>\n",
       "      <td>56819</td>\n",
       "      <td>Lately</td>\n",
       "      <td>David Guetta</td>\n",
       "      <td>13.0</td>\n",
       "      <td>2002</td>\n",
       "      <td>17164967.0</td>\n",
       "      <td>Pop</td>\n",
       "      <td>Electronic/Dance</td>\n",
       "      <td>1Cs0zKBU1kc0i8ypK3B9ai</td>\n",
       "      <td>78M16AQffV0YUfvseg60MT</td>\n",
       "      <td>SOTBSXB12A6D4F7E06</td>\n",
       "      <td>100840</td>\n",
       "      <td>small</td>\n",
       "      <td>train</td>\n",
       "    </tr>\n",
       "    <tr>\n",
       "      <th>61373</th>\n",
       "      <td>61373</td>\n",
       "      <td>Careful Where You Stand</td>\n",
       "      <td>Coldplay</td>\n",
       "      <td>38.0</td>\n",
       "      <td>2000</td>\n",
       "      <td>16941698.0</td>\n",
       "      <td>Punk</td>\n",
       "      <td>Pop</td>\n",
       "      <td>4gzpq5DPGxSnKTe4SA8HAU</td>\n",
       "      <td>2rd83EFsdLMTyrgVizvpxX</td>\n",
       "      <td>SOWOZBR12A8C13F4F6</td>\n",
       "      <td>285027</td>\n",
       "      <td>small</td>\n",
       "      <td>train</td>\n",
       "    </tr>\n",
       "    <tr>\n",
       "      <th>62711</th>\n",
       "      <td>62711</td>\n",
       "      <td>Proud To Be An American</td>\n",
       "      <td>Beyoncé</td>\n",
       "      <td>21.0</td>\n",
       "      <td>2008</td>\n",
       "      <td>16925982.0</td>\n",
       "      <td>Pop</td>\n",
       "      <td>Pop</td>\n",
       "      <td>6vWDO969PvNqNYHIOW5v0m</td>\n",
       "      <td>6LvTkhsKHuUDVEAAAzonjc</td>\n",
       "      <td>SOXXORZ12AB0184DC5</td>\n",
       "      <td>163376</td>\n",
       "      <td>small</td>\n",
       "      <td>train</td>\n",
       "    </tr>\n",
       "    <tr>\n",
       "      <th>59937</th>\n",
       "      <td>59937</td>\n",
       "      <td>Te Necesito</td>\n",
       "      <td>Shakira</td>\n",
       "      <td>48.0</td>\n",
       "      <td>1995</td>\n",
       "      <td>14852073.0</td>\n",
       "      <td>Pop</td>\n",
       "      <td>Pop</td>\n",
       "      <td>0EmeFodog0BfCgMzAIvKQp</td>\n",
       "      <td>3HLngzP9wVd8p3SMDQgyd9</td>\n",
       "      <td>SOVJQJJ12A8C1448E7</td>\n",
       "      <td>240227</td>\n",
       "      <td>small</td>\n",
       "      <td>test</td>\n",
       "    </tr>\n",
       "    <tr>\n",
       "      <th>43896</th>\n",
       "      <td>43896</td>\n",
       "      <td>What I've Done - Distorted Remix</td>\n",
       "      <td>Linkin Park</td>\n",
       "      <td>21.0</td>\n",
       "      <td>2007</td>\n",
       "      <td>11124030.0</td>\n",
       "      <td>Metal</td>\n",
       "      <td>Metal</td>\n",
       "      <td>6XyY86QOPPrYVGvF9ch6wz</td>\n",
       "      <td>2OFwcSIo57lA6rm4xhpGzE</td>\n",
       "      <td>SOMEAKJ12A6D4FBC99</td>\n",
       "      <td>227573</td>\n",
       "      <td>small</td>\n",
       "      <td>test</td>\n",
       "    </tr>\n",
       "  </tbody>\n",
       "</table>\n",
       "</div>"
      ],
      "text/plain": [
       "       trackID                        trackTitle    artistName  \\\n",
       "56819    56819                            Lately  David Guetta   \n",
       "61373    61373           Careful Where You Stand      Coldplay   \n",
       "62711    62711           Proud To Be An American       Beyoncé   \n",
       "59937    59937                       Te Necesito       Shakira   \n",
       "43896    43896  What I've Done - Distorted Remix   Linkin Park   \n",
       "\n",
       "       trackPopularity  releaseDate  artistFollowers topGenre1  \\\n",
       "56819             13.0         2002       17164967.0       Pop   \n",
       "61373             38.0         2000       16941698.0      Punk   \n",
       "62711             21.0         2008       16925982.0       Pop   \n",
       "59937             48.0         1995       14852073.0       Pop   \n",
       "43896             21.0         2007       11124030.0     Metal   \n",
       "\n",
       "              topGenre2                artistID                 albumID  \\\n",
       "56819  Electronic/Dance  1Cs0zKBU1kc0i8ypK3B9ai  78M16AQffV0YUfvseg60MT   \n",
       "61373               Pop  4gzpq5DPGxSnKTe4SA8HAU  2rd83EFsdLMTyrgVizvpxX   \n",
       "62711               Pop  6vWDO969PvNqNYHIOW5v0m  6LvTkhsKHuUDVEAAAzonjc   \n",
       "59937               Pop  0EmeFodog0BfCgMzAIvKQp  3HLngzP9wVd8p3SMDQgyd9   \n",
       "43896             Metal  6XyY86QOPPrYVGvF9ch6wz  2OFwcSIo57lA6rm4xhpGzE   \n",
       "\n",
       "                   songID  audio_Duration_ms set_subset set_split  \n",
       "56819  SOTBSXB12A6D4F7E06             100840      small     train  \n",
       "61373  SOWOZBR12A8C13F4F6             285027      small     train  \n",
       "62711  SOXXORZ12AB0184DC5             163376      small     train  \n",
       "59937  SOVJQJJ12A8C1448E7             240227      small      test  \n",
       "43896  SOMEAKJ12A6D4FBC99             227573      small      test  "
      ]
     },
     "execution_count": 95,
     "metadata": {},
     "output_type": "execute_result"
    }
   ],
   "source": [
    "tracks_s.sort_values(by=['artistFollowers'], ascending=False).drop_duplicates(subset=['artistName']).head()"
   ]
  },
  {
   "cell_type": "code",
   "execution_count": 238,
   "metadata": {},
   "outputs": [],
   "source": []
  },
  {
   "cell_type": "code",
   "execution_count": 239,
   "metadata": {},
   "outputs": [],
   "source": []
  },
  {
   "cell_type": "code",
   "execution_count": 240,
   "metadata": {},
   "outputs": [
    {
     "data": {
      "text/plain": [
       "63"
      ]
     },
     "execution_count": 240,
     "metadata": {},
     "output_type": "execute_result"
    }
   ],
   "source": [
    "concept_pop"
   ]
  },
  {
   "cell_type": "markdown",
   "metadata": {},
   "source": [
    "# 5. Computing Personalized Vector"
   ]
  },
  {
   "cell_type": "markdown",
   "metadata": {},
   "source": [
    "## 5.1. Decomposing utility matrix using Non-negative Matrix Factorization"
   ]
  },
  {
   "cell_type": "code",
   "execution_count": 323,
   "metadata": {},
   "outputs": [],
   "source": [
    "n_components = 200\n",
    "# We use 'kullback-leibler' betaloss as it has been suggested in the paper\n",
    "model_utility = NMF(n_components=n_components, solver='mu', beta_loss='kullback-leibler', \n",
    "                    tol=0.0001, max_iter=200).fit(sparse_utility)"
   ]
  },
  {
   "cell_type": "code",
   "execution_count": 326,
   "metadata": {},
   "outputs": [],
   "source": [
    "user_id_s = 12000\n",
    "\n",
    "# Getting the songs2concepts matrix\n",
    "H_songs = model_utility.components_\n",
    "\n",
    "### Creating an imaginary user which like popular songs\n",
    "song_pop = np.where(utility_df.columns==59937)[0][0] # Selecting the song ID of one of the Shakira's song \n",
    "# Sorrting the concepts based on this song to get the concept that best represents this song\n",
    "idx = np.argsort(H_songs[:, song_pop])\n",
    "concept_pop = idx[-1]\n",
    "# Creating a user2concepts vector with high value for this concept\n",
    "W_users = np.zeros((n_components,)) #model_utility.transform(sparse_utility[trackID_cat.categories[user_id_s],:].toarray()).reshape(-1)\n",
    "W_users[concept_pop] = 10"
   ]
  },
  {
   "cell_type": "code",
   "execution_count": 24,
   "metadata": {},
   "outputs": [
    {
     "data": {
      "text/plain": [
       "(30, 12900)"
      ]
     },
     "execution_count": 24,
     "metadata": {},
     "output_type": "execute_result"
    }
   ],
   "source": [
    "H_songs.shape"
   ]
  },
  {
   "cell_type": "markdown",
   "metadata": {},
   "source": [
    "## 5.2. Getting the most liked concept by the user"
   ]
  },
  {
   "cell_type": "code",
   "execution_count": 327,
   "metadata": {},
   "outputs": [],
   "source": [
    "### Get songs probability for some user_num\n",
    "\n",
    "# Getting the sorted index of the user interests to different concepts\n",
    "conceptSort_idx = np.argsort(W_users)\n",
    "best_concept = conceptSort_idx[-1]\n",
    "\n",
    "# Getting the concept that user likes the most\n",
    "songs_concept = H_songs[best_concept,:]\n",
    "#songs_concepts = songs_concepts/songs_concepts.sum()"
   ]
  },
  {
   "cell_type": "code",
   "execution_count": 329,
   "metadata": {},
   "outputs": [],
   "source": [
    "# Handling outliers\n",
    "percentile_cut = np.percentile(songs_concept, 99.97)\n",
    "songs_concept[songs_concept>=percentile_cut] = percentile_cut"
   ]
  },
  {
   "cell_type": "code",
   "execution_count": 330,
   "metadata": {},
   "outputs": [
    {
     "data": {
      "image/png": "[encoded data removed]",
      "text/plain": [
       "<Figure size 432x288 with 1 Axes>"
      ]
     },
     "metadata": {},
     "output_type": "display_data"
    }
   ],
   "source": [
    "#Displaying the histogram of the distances before sparsifying\n",
    "plt.hist(songs_concept[songs_concept!=0], bins=50);\n",
    "plt.yscale('log')"
   ]
  },
  {
   "cell_type": "markdown",
   "metadata": {},
   "source": [
    "## 5.3. Computing user personalized vector using Personalized PageRank"
   ]
  },
  {
   "cell_type": "code",
   "execution_count": 331,
   "metadata": {},
   "outputs": [],
   "source": [
    "# We choose alpha empirically\n",
    "alpha = 0.85\n",
    "# Running the PageRank algorithm\n",
    "page_rank = nx.pagerank(G_tracks, alpha=alpha, personalization=dict(zip(nodes_name, songs_concept)), max_iter=100, \n",
    "                        tol=1e-06, nstart=None, weight='weight', dangling=None)"
   ]
  },
  {
   "cell_type": "code",
   "execution_count": 332,
   "metadata": {},
   "outputs": [
    {
     "data": {
      "image/png": "[encoded data removed]",
      "text/plain": [
       "<Figure size 432x288 with 1 Axes>"
      ]
     },
     "metadata": {},
     "output_type": "display_data"
    }
   ],
   "source": [
    "# Getting a vector of PageRank values in percentage\n",
    "perc_page = np.array(list(page_rank.values()))*100\n",
    "\n",
    "# Get the sorted index of PageRank\n",
    "pr_idx = np.argsort(perc_page)\n",
    "\n",
    "# Keeping only 20 percent of songs with highest PageRank\n",
    "songs_num = perc_page.shape[0]\n",
    "perc_drop = 0.7\n",
    "\n",
    "# Plotting the PageRank values distribution\n",
    "_ = plt.hist(perc_page[pr_idx[int(songs_num*perc_drop):]], bins=50)\n",
    "_ = plt.yscale('log')"
   ]
  },
  {
   "cell_type": "markdown",
   "metadata": {},
   "source": [
    "## 5.4. Keeping most relevant songs based on personalization vector"
   ]
  },
  {
   "cell_type": "code",
   "execution_count": 333,
   "metadata": {},
   "outputs": [
    {
     "data": {
      "text/plain": [
       "(8969,)"
      ]
     },
     "execution_count": 333,
     "metadata": {},
     "output_type": "execute_result"
    }
   ],
   "source": [
    "# Keeping only 20 percent of songs with highest PageRank (this was done for the sake of efficiency)\n",
    "songs_num = perc_page.shape[0]\n",
    "perc_drop = 0.7\n",
    "\n",
    "# Calculating indices of songs to drop\n",
    "idx_drop = pr_idx[:int(songs_num*perc_drop)]\n",
    "idx_drop.sort()\n",
    "\n",
    "idx_drop.shape"
   ]
  },
  {
   "cell_type": "code",
   "execution_count": 334,
   "metadata": {},
   "outputs": [],
   "source": [
    "# Getting the last version of nodes name\n",
    "nodes_name = np.array(list(page_rank.keys()))\n",
    "nodes_name.sort()"
   ]
  },
  {
   "cell_type": "code",
   "execution_count": 335,
   "metadata": {},
   "outputs": [],
   "source": [
    "# Defining weights_sub dataframe\n",
    "weights_sub = pd.DataFrame(weights.toarray(), index=tracks_s.trackID, columns=tracks_s.trackID)"
   ]
  },
  {
   "cell_type": "code",
   "execution_count": 336,
   "metadata": {},
   "outputs": [
    {
     "data": {
      "text/html": [
       "<div>\n",
       "<style scoped>\n",
       "    .dataframe tbody tr th:only-of-type {\n",
       "        vertical-align: middle;\n",
       "    }\n",
       "\n",
       "    .dataframe tbody tr th {\n",
       "        vertical-align: top;\n",
       "    }\n",
       "\n",
       "    .dataframe thead th {\n",
       "        text-align: right;\n",
       "    }\n",
       "</style>\n",
       "<table border=\"1\" class=\"dataframe\">\n",
       "  <thead>\n",
       "    <tr style=\"text-align: right;\">\n",
       "      <th>trackID</th>\n",
       "      <th>5</th>\n",
       "      <th>10</th>\n",
       "      <th>11</th>\n",
       "      <th>21</th>\n",
       "      <th>22</th>\n",
       "      <th>29</th>\n",
       "      <th>41</th>\n",
       "      <th>42</th>\n",
       "      <th>44</th>\n",
       "      <th>46</th>\n",
       "      <th>...</th>\n",
       "      <th>64443</th>\n",
       "      <th>64447</th>\n",
       "      <th>64455</th>\n",
       "      <th>64459</th>\n",
       "      <th>64460</th>\n",
       "      <th>64461</th>\n",
       "      <th>64468</th>\n",
       "      <th>64473</th>\n",
       "      <th>64488</th>\n",
       "      <th>64490</th>\n",
       "    </tr>\n",
       "    <tr>\n",
       "      <th>trackID</th>\n",
       "      <th></th>\n",
       "      <th></th>\n",
       "      <th></th>\n",
       "      <th></th>\n",
       "      <th></th>\n",
       "      <th></th>\n",
       "      <th></th>\n",
       "      <th></th>\n",
       "      <th></th>\n",
       "      <th></th>\n",
       "      <th></th>\n",
       "      <th></th>\n",
       "      <th></th>\n",
       "      <th></th>\n",
       "      <th></th>\n",
       "      <th></th>\n",
       "      <th></th>\n",
       "      <th></th>\n",
       "      <th></th>\n",
       "      <th></th>\n",
       "      <th></th>\n",
       "    </tr>\n",
       "  </thead>\n",
       "  <tbody>\n",
       "    <tr>\n",
       "      <th>5</th>\n",
       "      <td>0.0</td>\n",
       "      <td>0.0</td>\n",
       "      <td>0.0</td>\n",
       "      <td>0.0</td>\n",
       "      <td>0.0</td>\n",
       "      <td>0.0</td>\n",
       "      <td>0.0</td>\n",
       "      <td>0.0</td>\n",
       "      <td>0.0</td>\n",
       "      <td>0.0</td>\n",
       "      <td>...</td>\n",
       "      <td>0.0</td>\n",
       "      <td>0.0</td>\n",
       "      <td>0.0</td>\n",
       "      <td>0.0</td>\n",
       "      <td>0.0</td>\n",
       "      <td>0.0</td>\n",
       "      <td>0.0</td>\n",
       "      <td>0.0</td>\n",
       "      <td>0.0</td>\n",
       "      <td>0.0</td>\n",
       "    </tr>\n",
       "    <tr>\n",
       "      <th>10</th>\n",
       "      <td>0.0</td>\n",
       "      <td>0.0</td>\n",
       "      <td>0.0</td>\n",
       "      <td>0.0</td>\n",
       "      <td>0.0</td>\n",
       "      <td>0.0</td>\n",
       "      <td>0.0</td>\n",
       "      <td>0.0</td>\n",
       "      <td>0.0</td>\n",
       "      <td>0.0</td>\n",
       "      <td>...</td>\n",
       "      <td>0.0</td>\n",
       "      <td>0.0</td>\n",
       "      <td>0.0</td>\n",
       "      <td>0.0</td>\n",
       "      <td>0.0</td>\n",
       "      <td>0.0</td>\n",
       "      <td>0.0</td>\n",
       "      <td>0.0</td>\n",
       "      <td>0.0</td>\n",
       "      <td>0.0</td>\n",
       "    </tr>\n",
       "    <tr>\n",
       "      <th>11</th>\n",
       "      <td>0.0</td>\n",
       "      <td>0.0</td>\n",
       "      <td>0.0</td>\n",
       "      <td>0.0</td>\n",
       "      <td>0.0</td>\n",
       "      <td>0.0</td>\n",
       "      <td>0.0</td>\n",
       "      <td>0.0</td>\n",
       "      <td>0.0</td>\n",
       "      <td>0.0</td>\n",
       "      <td>...</td>\n",
       "      <td>0.0</td>\n",
       "      <td>0.0</td>\n",
       "      <td>0.0</td>\n",
       "      <td>0.0</td>\n",
       "      <td>0.0</td>\n",
       "      <td>0.0</td>\n",
       "      <td>0.0</td>\n",
       "      <td>0.0</td>\n",
       "      <td>0.0</td>\n",
       "      <td>0.0</td>\n",
       "    </tr>\n",
       "    <tr>\n",
       "      <th>21</th>\n",
       "      <td>0.0</td>\n",
       "      <td>0.0</td>\n",
       "      <td>0.0</td>\n",
       "      <td>0.0</td>\n",
       "      <td>0.0</td>\n",
       "      <td>0.0</td>\n",
       "      <td>0.0</td>\n",
       "      <td>0.0</td>\n",
       "      <td>0.0</td>\n",
       "      <td>0.0</td>\n",
       "      <td>...</td>\n",
       "      <td>0.0</td>\n",
       "      <td>0.0</td>\n",
       "      <td>0.0</td>\n",
       "      <td>0.0</td>\n",
       "      <td>0.0</td>\n",
       "      <td>0.0</td>\n",
       "      <td>0.0</td>\n",
       "      <td>0.0</td>\n",
       "      <td>0.0</td>\n",
       "      <td>0.0</td>\n",
       "    </tr>\n",
       "    <tr>\n",
       "      <th>22</th>\n",
       "      <td>0.0</td>\n",
       "      <td>0.0</td>\n",
       "      <td>0.0</td>\n",
       "      <td>0.0</td>\n",
       "      <td>0.0</td>\n",
       "      <td>0.0</td>\n",
       "      <td>0.0</td>\n",
       "      <td>0.0</td>\n",
       "      <td>0.0</td>\n",
       "      <td>0.0</td>\n",
       "      <td>...</td>\n",
       "      <td>0.0</td>\n",
       "      <td>0.0</td>\n",
       "      <td>0.0</td>\n",
       "      <td>0.0</td>\n",
       "      <td>0.0</td>\n",
       "      <td>0.0</td>\n",
       "      <td>0.0</td>\n",
       "      <td>0.0</td>\n",
       "      <td>0.0</td>\n",
       "      <td>0.0</td>\n",
       "    </tr>\n",
       "  </tbody>\n",
       "</table>\n",
       "<p>5 rows × 12814 columns</p>\n",
       "</div>"
      ],
      "text/plain": [
       "trackID  5      10     11     21     22     29     41     42     44     46     \\\n",
       "trackID                                                                         \n",
       "5          0.0    0.0    0.0    0.0    0.0    0.0    0.0    0.0    0.0    0.0   \n",
       "10         0.0    0.0    0.0    0.0    0.0    0.0    0.0    0.0    0.0    0.0   \n",
       "11         0.0    0.0    0.0    0.0    0.0    0.0    0.0    0.0    0.0    0.0   \n",
       "21         0.0    0.0    0.0    0.0    0.0    0.0    0.0    0.0    0.0    0.0   \n",
       "22         0.0    0.0    0.0    0.0    0.0    0.0    0.0    0.0    0.0    0.0   \n",
       "\n",
       "trackID  ...    64443  64447  64455  64459  64460  64461  64468  64473  64488  \\\n",
       "trackID  ...                                                                    \n",
       "5        ...      0.0    0.0    0.0    0.0    0.0    0.0    0.0    0.0    0.0   \n",
       "10       ...      0.0    0.0    0.0    0.0    0.0    0.0    0.0    0.0    0.0   \n",
       "11       ...      0.0    0.0    0.0    0.0    0.0    0.0    0.0    0.0    0.0   \n",
       "21       ...      0.0    0.0    0.0    0.0    0.0    0.0    0.0    0.0    0.0   \n",
       "22       ...      0.0    0.0    0.0    0.0    0.0    0.0    0.0    0.0    0.0   \n",
       "\n",
       "trackID  64490  \n",
       "trackID         \n",
       "5          0.0  \n",
       "10         0.0  \n",
       "11         0.0  \n",
       "21         0.0  \n",
       "22         0.0  \n",
       "\n",
       "[5 rows x 12814 columns]"
      ]
     },
     "execution_count": 336,
     "metadata": {},
     "output_type": "execute_result"
    }
   ],
   "source": [
    "# Keeping only connected conponents\n",
    "weights_sub = weights_sub.loc[nodes_name, nodes_name]\n",
    "\n",
    "weights_sub.head()"
   ]
  },
  {
   "cell_type": "code",
   "execution_count": 337,
   "metadata": {},
   "outputs": [
    {
     "data": {
      "text/html": [
       "<div>\n",
       "<style scoped>\n",
       "    .dataframe tbody tr th:only-of-type {\n",
       "        vertical-align: middle;\n",
       "    }\n",
       "\n",
       "    .dataframe tbody tr th {\n",
       "        vertical-align: top;\n",
       "    }\n",
       "\n",
       "    .dataframe thead th {\n",
       "        text-align: right;\n",
       "    }\n",
       "</style>\n",
       "<table border=\"1\" class=\"dataframe\">\n",
       "  <thead>\n",
       "    <tr style=\"text-align: right;\">\n",
       "      <th>trackID</th>\n",
       "      <th>5</th>\n",
       "      <th>22</th>\n",
       "      <th>44</th>\n",
       "      <th>83</th>\n",
       "      <th>85</th>\n",
       "      <th>94</th>\n",
       "      <th>125</th>\n",
       "      <th>167</th>\n",
       "      <th>171</th>\n",
       "      <th>180</th>\n",
       "      <th>...</th>\n",
       "      <th>64292</th>\n",
       "      <th>64305</th>\n",
       "      <th>64315</th>\n",
       "      <th>64317</th>\n",
       "      <th>64416</th>\n",
       "      <th>64417</th>\n",
       "      <th>64418</th>\n",
       "      <th>64455</th>\n",
       "      <th>64461</th>\n",
       "      <th>64468</th>\n",
       "    </tr>\n",
       "    <tr>\n",
       "      <th>trackID</th>\n",
       "      <th></th>\n",
       "      <th></th>\n",
       "      <th></th>\n",
       "      <th></th>\n",
       "      <th></th>\n",
       "      <th></th>\n",
       "      <th></th>\n",
       "      <th></th>\n",
       "      <th></th>\n",
       "      <th></th>\n",
       "      <th></th>\n",
       "      <th></th>\n",
       "      <th></th>\n",
       "      <th></th>\n",
       "      <th></th>\n",
       "      <th></th>\n",
       "      <th></th>\n",
       "      <th></th>\n",
       "      <th></th>\n",
       "      <th></th>\n",
       "      <th></th>\n",
       "    </tr>\n",
       "  </thead>\n",
       "  <tbody>\n",
       "    <tr>\n",
       "      <th>5</th>\n",
       "      <td>0.0</td>\n",
       "      <td>0.0</td>\n",
       "      <td>0.0</td>\n",
       "      <td>0.0</td>\n",
       "      <td>0.0</td>\n",
       "      <td>0.0</td>\n",
       "      <td>0.0</td>\n",
       "      <td>0.0</td>\n",
       "      <td>0.0</td>\n",
       "      <td>0.0</td>\n",
       "      <td>...</td>\n",
       "      <td>0.0</td>\n",
       "      <td>0.0</td>\n",
       "      <td>0.0</td>\n",
       "      <td>0.0</td>\n",
       "      <td>0.0</td>\n",
       "      <td>0.0</td>\n",
       "      <td>0.0</td>\n",
       "      <td>0.0</td>\n",
       "      <td>0.0</td>\n",
       "      <td>0.0</td>\n",
       "    </tr>\n",
       "    <tr>\n",
       "      <th>22</th>\n",
       "      <td>0.0</td>\n",
       "      <td>0.0</td>\n",
       "      <td>0.0</td>\n",
       "      <td>0.0</td>\n",
       "      <td>0.0</td>\n",
       "      <td>0.0</td>\n",
       "      <td>0.0</td>\n",
       "      <td>0.0</td>\n",
       "      <td>0.0</td>\n",
       "      <td>0.0</td>\n",
       "      <td>...</td>\n",
       "      <td>0.0</td>\n",
       "      <td>0.0</td>\n",
       "      <td>0.0</td>\n",
       "      <td>0.0</td>\n",
       "      <td>0.0</td>\n",
       "      <td>0.0</td>\n",
       "      <td>0.0</td>\n",
       "      <td>0.0</td>\n",
       "      <td>0.0</td>\n",
       "      <td>0.0</td>\n",
       "    </tr>\n",
       "    <tr>\n",
       "      <th>44</th>\n",
       "      <td>0.0</td>\n",
       "      <td>0.0</td>\n",
       "      <td>0.0</td>\n",
       "      <td>0.0</td>\n",
       "      <td>0.0</td>\n",
       "      <td>0.0</td>\n",
       "      <td>0.0</td>\n",
       "      <td>0.0</td>\n",
       "      <td>0.0</td>\n",
       "      <td>0.0</td>\n",
       "      <td>...</td>\n",
       "      <td>0.0</td>\n",
       "      <td>0.0</td>\n",
       "      <td>0.0</td>\n",
       "      <td>0.0</td>\n",
       "      <td>0.0</td>\n",
       "      <td>0.0</td>\n",
       "      <td>0.0</td>\n",
       "      <td>0.0</td>\n",
       "      <td>0.0</td>\n",
       "      <td>0.0</td>\n",
       "    </tr>\n",
       "    <tr>\n",
       "      <th>83</th>\n",
       "      <td>0.0</td>\n",
       "      <td>0.0</td>\n",
       "      <td>0.0</td>\n",
       "      <td>0.0</td>\n",
       "      <td>0.0</td>\n",
       "      <td>0.0</td>\n",
       "      <td>0.0</td>\n",
       "      <td>0.0</td>\n",
       "      <td>0.0</td>\n",
       "      <td>0.0</td>\n",
       "      <td>...</td>\n",
       "      <td>0.0</td>\n",
       "      <td>0.0</td>\n",
       "      <td>0.0</td>\n",
       "      <td>0.0</td>\n",
       "      <td>0.0</td>\n",
       "      <td>0.0</td>\n",
       "      <td>0.0</td>\n",
       "      <td>0.0</td>\n",
       "      <td>0.0</td>\n",
       "      <td>0.0</td>\n",
       "    </tr>\n",
       "    <tr>\n",
       "      <th>85</th>\n",
       "      <td>0.0</td>\n",
       "      <td>0.0</td>\n",
       "      <td>0.0</td>\n",
       "      <td>0.0</td>\n",
       "      <td>0.0</td>\n",
       "      <td>0.0</td>\n",
       "      <td>0.0</td>\n",
       "      <td>0.0</td>\n",
       "      <td>0.0</td>\n",
       "      <td>0.0</td>\n",
       "      <td>...</td>\n",
       "      <td>0.0</td>\n",
       "      <td>0.0</td>\n",
       "      <td>0.0</td>\n",
       "      <td>0.0</td>\n",
       "      <td>0.0</td>\n",
       "      <td>0.0</td>\n",
       "      <td>0.0</td>\n",
       "      <td>0.0</td>\n",
       "      <td>0.0</td>\n",
       "      <td>0.0</td>\n",
       "    </tr>\n",
       "  </tbody>\n",
       "</table>\n",
       "<p>5 rows × 3845 columns</p>\n",
       "</div>"
      ],
      "text/plain": [
       "trackID  5      22     44     83     85     94     125    167    171    180    \\\n",
       "trackID                                                                         \n",
       "5          0.0    0.0    0.0    0.0    0.0    0.0    0.0    0.0    0.0    0.0   \n",
       "22         0.0    0.0    0.0    0.0    0.0    0.0    0.0    0.0    0.0    0.0   \n",
       "44         0.0    0.0    0.0    0.0    0.0    0.0    0.0    0.0    0.0    0.0   \n",
       "83         0.0    0.0    0.0    0.0    0.0    0.0    0.0    0.0    0.0    0.0   \n",
       "85         0.0    0.0    0.0    0.0    0.0    0.0    0.0    0.0    0.0    0.0   \n",
       "\n",
       "trackID  ...    64292  64305  64315  64317  64416  64417  64418  64455  64461  \\\n",
       "trackID  ...                                                                    \n",
       "5        ...      0.0    0.0    0.0    0.0    0.0    0.0    0.0    0.0    0.0   \n",
       "22       ...      0.0    0.0    0.0    0.0    0.0    0.0    0.0    0.0    0.0   \n",
       "44       ...      0.0    0.0    0.0    0.0    0.0    0.0    0.0    0.0    0.0   \n",
       "83       ...      0.0    0.0    0.0    0.0    0.0    0.0    0.0    0.0    0.0   \n",
       "85       ...      0.0    0.0    0.0    0.0    0.0    0.0    0.0    0.0    0.0   \n",
       "\n",
       "trackID  64468  \n",
       "trackID         \n",
       "5          0.0  \n",
       "22         0.0  \n",
       "44         0.0  \n",
       "83         0.0  \n",
       "85         0.0  \n",
       "\n",
       "[5 rows x 3845 columns]"
      ]
     },
     "execution_count": 337,
     "metadata": {},
     "output_type": "execute_result"
    }
   ],
   "source": [
    "# Dropping columns\n",
    "weights_sub = weights_sub.drop(weights_sub.columns[idx_drop.tolist()], axis=1)\n",
    "\n",
    "# Dropping rows\n",
    "weights_sub = weights_sub.drop(weights_sub.index[idx_drop.tolist()], axis=0)\n",
    "\n",
    "weights_sub.head()"
   ]
  },
  {
   "cell_type": "code",
   "execution_count": 338,
   "metadata": {},
   "outputs": [],
   "source": [
    "# First step of sparsifying: Based on weights\n",
    "sp_thr = 0.15\n",
    "weights_sub[weights_sub<=sp_thr] = 0"
   ]
  },
  {
   "cell_type": "code",
   "execution_count": 339,
   "metadata": {},
   "outputs": [],
   "source": [
    "# We sparsify based on outdegree of each node: a[0,:] show out-going edges\n",
    "### This is because in the algorithms that we will use, \n",
    "### ...in-degree contains information that we don't want to lose\n",
    "Edges = 30\n",
    "\n",
    "sort_idx = np.argsort(weights_sub.values, axis=1)\n",
    "#Leaving all but the 50 strongest edges\n",
    "for i,index in enumerate(sort_idx):\n",
    "    weights_sub.iloc[i, index[:-Edges]] = 0\n"
   ]
  },
  {
   "cell_type": "code",
   "execution_count": 340,
   "metadata": {},
   "outputs": [],
   "source": [
    "# Getting sparse matrix\n",
    "weights_sp = sparse.csr_matrix(weights_sub.values)\n",
    "\n",
    "# Building a graph from Sparse CSR matrix\n",
    "G_tracks_s = nx.from_scipy_sparse_matrix(weights_sp, create_using=nx.DiGraph(), edge_attribute='weight')\n",
    "\n",
    "# Relabeling the nodes (name of nodes: TrackID)\n",
    "G_tracks_s = nx.relabel_nodes(G_tracks_s, dict(zip(range(len(G_tracks_s.nodes())),weights_sub.index.values)))"
   ]
  },
  {
   "cell_type": "code",
   "execution_count": 341,
   "metadata": {},
   "outputs": [
    {
     "name": "stdout",
     "output_type": "stream",
     "text": [
      "False\n",
      "There are 249 connected components!\n"
     ]
    }
   ],
   "source": [
    "# Checking if the graph is connected\n",
    "print(nx.is_strongly_connected(G_tracks_s))\n",
    "# Getting the number of Connected components\n",
    "print('There are {} connected components!'.format(nx.number_strongly_connected_components(G_tracks_s)))"
   ]
  },
  {
   "cell_type": "code",
   "execution_count": 342,
   "metadata": {},
   "outputs": [],
   "source": [
    "components = []\n",
    "for component in nx.strongly_connected_components(G_tracks_s):\n",
    "    components.append(sorted(list(component)))"
   ]
  },
  {
   "cell_type": "code",
   "execution_count": 343,
   "metadata": {},
   "outputs": [],
   "source": [
    "components.sort(key=lambda x: len(x))"
   ]
  },
  {
   "cell_type": "code",
   "execution_count": 344,
   "metadata": {},
   "outputs": [
    {
     "data": {
      "text/plain": [
       "3576"
      ]
     },
     "execution_count": 344,
     "metadata": {},
     "output_type": "execute_result"
    }
   ],
   "source": [
    "len(components[-1])"
   ]
  },
  {
   "cell_type": "code",
   "execution_count": 345,
   "metadata": {},
   "outputs": [],
   "source": [
    "# Creating a subgraph of G_tracks whihc contains selected songs \n",
    "### (here 500 songs selected in \"creating utility matrix\" step)\n",
    "G_subgraph = G_tracks_s.subgraph(components[-1])"
   ]
  },
  {
   "cell_type": "markdown",
   "metadata": {},
   "source": [
    "# 6. Selecting Seed and End Songs"
   ]
  },
  {
   "cell_type": "markdown",
   "metadata": {},
   "source": [
    "## 6.1. Defining userTaste dataframe"
   ]
  },
  {
   "cell_type": "code",
   "execution_count": 346,
   "metadata": {},
   "outputs": [],
   "source": [
    "pr_values = list(page_rank.values())\n",
    "pr_nodes = list(page_rank.keys())"
   ]
  },
  {
   "cell_type": "code",
   "execution_count": 347,
   "metadata": {},
   "outputs": [
    {
     "name": "stdout",
     "output_type": "stream",
     "text": [
      "(3576, 2)\n"
     ]
    },
    {
     "data": {
      "text/html": [
       "<div>\n",
       "<style scoped>\n",
       "    .dataframe tbody tr th:only-of-type {\n",
       "        vertical-align: middle;\n",
       "    }\n",
       "\n",
       "    .dataframe tbody tr th {\n",
       "        vertical-align: top;\n",
       "    }\n",
       "\n",
       "    .dataframe thead th {\n",
       "        text-align: right;\n",
       "    }\n",
       "</style>\n",
       "<table border=\"1\" class=\"dataframe\">\n",
       "  <thead>\n",
       "    <tr style=\"text-align: right;\">\n",
       "      <th></th>\n",
       "      <th>trackID</th>\n",
       "      <th>pageRank</th>\n",
       "    </tr>\n",
       "  </thead>\n",
       "  <tbody>\n",
       "    <tr>\n",
       "      <th>0</th>\n",
       "      <td>5</td>\n",
       "      <td>0.000008</td>\n",
       "    </tr>\n",
       "    <tr>\n",
       "      <th>1</th>\n",
       "      <td>22</td>\n",
       "      <td>0.000019</td>\n",
       "    </tr>\n",
       "    <tr>\n",
       "      <th>2</th>\n",
       "      <td>44</td>\n",
       "      <td>0.000003</td>\n",
       "    </tr>\n",
       "    <tr>\n",
       "      <th>3</th>\n",
       "      <td>32824</td>\n",
       "      <td>0.000242</td>\n",
       "    </tr>\n",
       "    <tr>\n",
       "      <th>4</th>\n",
       "      <td>32825</td>\n",
       "      <td>0.000002</td>\n",
       "    </tr>\n",
       "  </tbody>\n",
       "</table>\n",
       "</div>"
      ],
      "text/plain": [
       "   trackID  pageRank\n",
       "0        5  0.000008\n",
       "1       22  0.000019\n",
       "2       44  0.000003\n",
       "3    32824  0.000242\n",
       "4    32825  0.000002"
      ]
     },
     "execution_count": 347,
     "metadata": {},
     "output_type": "execute_result"
    }
   ],
   "source": [
    "# Defining the user_taste \n",
    "user_taste = pd.DataFrame(dict(trackID=pr_nodes, pageRank=pr_values))\n",
    "\n",
    "# Filtering songs to the ones that were left\n",
    "user_taste = user_taste[user_taste.trackID.isin(components[-1])]\n",
    "\n",
    "# Reseting index\n",
    "user_taste = user_taste.reset_index(drop=True)\n",
    "print(user_taste.shape)\n",
    "user_taste.head()"
   ]
  },
  {
   "cell_type": "markdown",
   "metadata": {},
   "source": [
    "## 6.2. Normalizing userTaste PageRank values"
   ]
  },
  {
   "cell_type": "code",
   "execution_count": 348,
   "metadata": {},
   "outputs": [
    {
     "data": {
      "text/html": [
       "<div>\n",
       "<style scoped>\n",
       "    .dataframe tbody tr th:only-of-type {\n",
       "        vertical-align: middle;\n",
       "    }\n",
       "\n",
       "    .dataframe tbody tr th {\n",
       "        vertical-align: top;\n",
       "    }\n",
       "\n",
       "    .dataframe thead th {\n",
       "        text-align: right;\n",
       "    }\n",
       "</style>\n",
       "<table border=\"1\" class=\"dataframe\">\n",
       "  <thead>\n",
       "    <tr style=\"text-align: right;\">\n",
       "      <th></th>\n",
       "      <th>trackID</th>\n",
       "      <th>pageRank</th>\n",
       "    </tr>\n",
       "  </thead>\n",
       "  <tbody>\n",
       "    <tr>\n",
       "      <th>0</th>\n",
       "      <td>5</td>\n",
       "      <td>0.000689</td>\n",
       "    </tr>\n",
       "    <tr>\n",
       "      <th>1</th>\n",
       "      <td>22</td>\n",
       "      <td>0.001625</td>\n",
       "    </tr>\n",
       "    <tr>\n",
       "      <th>2</th>\n",
       "      <td>44</td>\n",
       "      <td>0.000291</td>\n",
       "    </tr>\n",
       "    <tr>\n",
       "      <th>3</th>\n",
       "      <td>32824</td>\n",
       "      <td>0.020787</td>\n",
       "    </tr>\n",
       "    <tr>\n",
       "      <th>4</th>\n",
       "      <td>32825</td>\n",
       "      <td>0.000143</td>\n",
       "    </tr>\n",
       "  </tbody>\n",
       "</table>\n",
       "</div>"
      ],
      "text/plain": [
       "   trackID  pageRank\n",
       "0        5  0.000689\n",
       "1       22  0.001625\n",
       "2       44  0.000291\n",
       "3    32824  0.020787\n",
       "4    32825  0.000143"
      ]
     },
     "execution_count": 348,
     "metadata": {},
     "output_type": "execute_result"
    }
   ],
   "source": [
    "# song_concepts vector contains information about how likely the user...\n",
    "# will like each song, we need to normalize it from 0 to 1.\n",
    "Min=np.min(user_taste.pageRank.values)\n",
    "Max=np.max(user_taste.pageRank.values)\n",
    "#Normalized version of sonf_concepts, we call it User_pref_norm because it represents the preference of the user.\n",
    "user_taste.pageRank=(user_taste.pageRank-Min)/(Max-Min)\n",
    "\n",
    "user_taste.head()"
   ]
  },
  {
   "cell_type": "markdown",
   "metadata": {},
   "source": [
    "## 6.3. Creating mood matrix"
   ]
  },
  {
   "cell_type": "code",
   "execution_count": 349,
   "metadata": {},
   "outputs": [
    {
     "name": "stdout",
     "output_type": "stream",
     "text": [
      "(3576, 11)\n"
     ]
    },
    {
     "data": {
      "text/html": [
       "<div>\n",
       "<style scoped>\n",
       "    .dataframe tbody tr th:only-of-type {\n",
       "        vertical-align: middle;\n",
       "    }\n",
       "\n",
       "    .dataframe tbody tr th {\n",
       "        vertical-align: top;\n",
       "    }\n",
       "\n",
       "    .dataframe thead th {\n",
       "        text-align: right;\n",
       "    }\n",
       "</style>\n",
       "<table border=\"1\" class=\"dataframe\">\n",
       "  <thead>\n",
       "    <tr style=\"text-align: right;\">\n",
       "      <th></th>\n",
       "      <th>audio_Danceability</th>\n",
       "      <th>audio_Energy</th>\n",
       "      <th>audio_Key</th>\n",
       "      <th>audio_Loudness</th>\n",
       "      <th>audio_Mode</th>\n",
       "      <th>audio_Speechiness</th>\n",
       "      <th>audio_Acousticness</th>\n",
       "      <th>audio_Instrumentalness</th>\n",
       "      <th>audio_Liveness</th>\n",
       "      <th>audio_Valence</th>\n",
       "      <th>audio_Tempo</th>\n",
       "    </tr>\n",
       "    <tr>\n",
       "      <th>trackID</th>\n",
       "      <th></th>\n",
       "      <th></th>\n",
       "      <th></th>\n",
       "      <th></th>\n",
       "      <th></th>\n",
       "      <th></th>\n",
       "      <th></th>\n",
       "      <th></th>\n",
       "      <th></th>\n",
       "      <th></th>\n",
       "      <th></th>\n",
       "    </tr>\n",
       "  </thead>\n",
       "  <tbody>\n",
       "    <tr>\n",
       "      <th>5</th>\n",
       "      <td>0.320</td>\n",
       "      <td>0.386</td>\n",
       "      <td>10</td>\n",
       "      <td>-9.174</td>\n",
       "      <td>1</td>\n",
       "      <td>0.0275</td>\n",
       "      <td>0.8700</td>\n",
       "      <td>0.881000</td>\n",
       "      <td>0.2930</td>\n",
       "      <td>0.144</td>\n",
       "      <td>81.872</td>\n",
       "    </tr>\n",
       "    <tr>\n",
       "      <th>22</th>\n",
       "      <td>0.500</td>\n",
       "      <td>0.341</td>\n",
       "      <td>11</td>\n",
       "      <td>-11.705</td>\n",
       "      <td>0</td>\n",
       "      <td>0.0268</td>\n",
       "      <td>0.8640</td>\n",
       "      <td>0.000001</td>\n",
       "      <td>0.1090</td>\n",
       "      <td>0.140</td>\n",
       "      <td>100.774</td>\n",
       "    </tr>\n",
       "    <tr>\n",
       "      <th>44</th>\n",
       "      <td>0.636</td>\n",
       "      <td>0.782</td>\n",
       "      <td>11</td>\n",
       "      <td>-6.042</td>\n",
       "      <td>1</td>\n",
       "      <td>0.0643</td>\n",
       "      <td>0.1370</td>\n",
       "      <td>0.000000</td>\n",
       "      <td>0.1700</td>\n",
       "      <td>0.834</td>\n",
       "      <td>94.938</td>\n",
       "    </tr>\n",
       "    <tr>\n",
       "      <th>83</th>\n",
       "      <td>0.323</td>\n",
       "      <td>0.596</td>\n",
       "      <td>9</td>\n",
       "      <td>-9.847</td>\n",
       "      <td>1</td>\n",
       "      <td>0.0366</td>\n",
       "      <td>0.8360</td>\n",
       "      <td>0.001390</td>\n",
       "      <td>0.9730</td>\n",
       "      <td>0.402</td>\n",
       "      <td>179.046</td>\n",
       "    </tr>\n",
       "    <tr>\n",
       "      <th>85</th>\n",
       "      <td>0.464</td>\n",
       "      <td>0.645</td>\n",
       "      <td>0</td>\n",
       "      <td>-6.189</td>\n",
       "      <td>1</td>\n",
       "      <td>0.0255</td>\n",
       "      <td>0.0301</td>\n",
       "      <td>0.000696</td>\n",
       "      <td>0.0882</td>\n",
       "      <td>0.555</td>\n",
       "      <td>89.768</td>\n",
       "    </tr>\n",
       "  </tbody>\n",
       "</table>\n",
       "</div>"
      ],
      "text/plain": [
       "         audio_Danceability  audio_Energy  audio_Key  audio_Loudness  \\\n",
       "trackID                                                                \n",
       "5                     0.320         0.386         10          -9.174   \n",
       "22                    0.500         0.341         11         -11.705   \n",
       "44                    0.636         0.782         11          -6.042   \n",
       "83                    0.323         0.596          9          -9.847   \n",
       "85                    0.464         0.645          0          -6.189   \n",
       "\n",
       "         audio_Mode  audio_Speechiness  audio_Acousticness  \\\n",
       "trackID                                                      \n",
       "5                 1             0.0275              0.8700   \n",
       "22                0             0.0268              0.8640   \n",
       "44                1             0.0643              0.1370   \n",
       "83                1             0.0366              0.8360   \n",
       "85                1             0.0255              0.0301   \n",
       "\n",
       "         audio_Instrumentalness  audio_Liveness  audio_Valence  audio_Tempo  \n",
       "trackID                                                                      \n",
       "5                      0.881000          0.2930          0.144       81.872  \n",
       "22                     0.000001          0.1090          0.140      100.774  \n",
       "44                     0.000000          0.1700          0.834       94.938  \n",
       "83                     0.001390          0.9730          0.402      179.046  \n",
       "85                     0.000696          0.0882          0.555       89.768  "
      ]
     },
     "execution_count": 349,
     "metadata": {},
     "output_type": "execute_result"
    }
   ],
   "source": [
    "#Generating the matrix with the 10 audio features\n",
    "mood_matrix = audio_features[audio_features.trackID.isin(user_taste.trackID)]\n",
    "\n",
    "# Resetting index\n",
    "mood_matrix = mood_matrix.set_index('trackID')\n",
    "\n",
    "print(mood_matrix.shape)\n",
    "mood_matrix.head()\n"
   ]
  },
  {
   "cell_type": "markdown",
   "metadata": {},
   "source": [
    "## 6.4. Selecting seed and end song based on user input"
   ]
  },
  {
   "cell_type": "code",
   "execution_count": 350,
   "metadata": {},
   "outputs": [],
   "source": [
    "Lambda=0.2 #factor defining how much the song should be in the user's preferences\n",
    "\n",
    "def song_selection(Danceability,Energy,Valence):\n",
    "        #Then  we create the disance from the 3 features and keep the last column \n",
    "        distances = cdist([[Danceability,Energy,Valence]], mood_matrix[['audio_Danceability', 'audio_Energy','audio_Valence']], \n",
    "                          metric='sqeuclidean')\n",
    "\n",
    "        #We convert that distance in weights, using the weighting method seen in class\n",
    "        kernel_width = distances.mean()\n",
    "        mood_weights = np.exp(-distances**2 / kernel_width**2)\n",
    "\n",
    "        #mood_weights=distweights(np.shape(distweights)[0],:)\n",
    "\n",
    "        # generation of final scores taking into account moods and user:\n",
    "        selectedsong = mood_weights + Lambda * user_taste.pageRank.values\n",
    "\n",
    "        #We get as output the index of the song that is the most compatible.\n",
    "        selectedsong2=user_taste.loc[np.argmax(selectedsong),'trackID']    \n",
    "\n",
    "        return selectedsong2"
   ]
  },
  {
   "cell_type": "code",
   "execution_count": 351,
   "metadata": {},
   "outputs": [
    {
     "data": {
      "text/plain": [
       "62093"
      ]
     },
     "execution_count": 351,
     "metadata": {},
     "output_type": "execute_result"
    }
   ],
   "source": [
    "# Selecting end song\n",
    "end_song=song_selection(0.7,0.7,0.9)\n",
    "end_song"
   ]
  },
  {
   "cell_type": "code",
   "execution_count": 352,
   "metadata": {},
   "outputs": [
    {
     "data": {
      "text/plain": [
       "31953"
      ]
     },
     "execution_count": 352,
     "metadata": {},
     "output_type": "execute_result"
    }
   ],
   "source": [
    "# Selecting seed song\n",
    "seed_song=song_selection(0.4,0.4,0.1)\n",
    "seed_song"
   ]
  },
  {
   "cell_type": "markdown",
   "metadata": {},
   "source": [
    "# 7. Generating Final Playlist"
   ]
  },
  {
   "cell_type": "markdown",
   "metadata": {},
   "source": [
    "## 7.1. Getting all simple paths"
   ]
  },
  {
   "cell_type": "code",
   "execution_count": 353,
   "metadata": {},
   "outputs": [],
   "source": [
    "nodes_sample = components[-1]"
   ]
  },
  {
   "cell_type": "code",
   "execution_count": 354,
   "metadata": {},
   "outputs": [
    {
     "data": {
      "text/plain": [
       "5"
      ]
     },
     "execution_count": 354,
     "metadata": {},
     "output_type": "execute_result"
    }
   ],
   "source": [
    "nx.shortest_path_length(G_subgraph, source=seed_song, target=end_song)"
   ]
  },
  {
   "cell_type": "code",
   "execution_count": 357,
   "metadata": {},
   "outputs": [],
   "source": [
    "simple_paths = []\n",
    "for path in nx.all_simple_paths(G_subgraph, source=seed_song, \n",
    "                                target=end_song, cutoff=7):\n",
    "    simple_paths.append(path)"
   ]
  },
  {
   "cell_type": "code",
   "execution_count": 358,
   "metadata": {},
   "outputs": [
    {
     "data": {
      "text/plain": [
       "50"
      ]
     },
     "execution_count": 358,
     "metadata": {},
     "output_type": "execute_result"
    }
   ],
   "source": [
    "len(simple_paths)"
   ]
  },
  {
   "cell_type": "markdown",
   "metadata": {},
   "source": [
    "## 7.2. Keeping the 50% of paths based on connection scores"
   ]
  },
  {
   "cell_type": "code",
   "execution_count": 302,
   "metadata": {},
   "outputs": [],
   "source": [
    "score = 0\n",
    "scores = []\n",
    "#dic_pathWeight = dict(zip(range(len(simple_paths)), [0]*len(simple_paths)))\n",
    "\n",
    "for item in range(len(simple_paths)): #dic_pathWeight.keys():\n",
    "    for i, j in zip(simple_paths[item], simple_paths[item][1:]):\n",
    "        score += G_subgraph.get_edge_data(i, j)['weight']\n",
    "    scores.append(score)\n",
    "    score=0\n",
    "\n",
    "scores = np.array(scores)"
   ]
  },
  {
   "cell_type": "code",
   "execution_count": 307,
   "metadata": {},
   "outputs": [
    {
     "data": {
      "text/plain": [
       "4.9123987142233645"
      ]
     },
     "execution_count": 307,
     "metadata": {},
     "output_type": "execute_result"
    }
   ],
   "source": [
    "np.percentile(scores, 50)"
   ]
  },
  {
   "cell_type": "code",
   "execution_count": 313,
   "metadata": {},
   "outputs": [
    {
     "data": {
      "text/plain": [
       "(8929,)"
      ]
     },
     "execution_count": 313,
     "metadata": {},
     "output_type": "execute_result"
    }
   ],
   "source": [
    "scores[np.where(scores>np.percentile(scores, 50))].shape"
   ]
  },
  {
   "cell_type": "code",
   "execution_count": 306,
   "metadata": {},
   "outputs": [
    {
     "data": {
      "text/plain": [
       "4.350224898097361"
      ]
     },
     "execution_count": 306,
     "metadata": {},
     "output_type": "execute_result"
    }
   ],
   "source": [
    "scores_idx = np.argsort(scores)\n",
    "\n",
    "scores[scores_idx[1000]]"
   ]
  },
  {
   "cell_type": "code",
   "execution_count": 200,
   "metadata": {},
   "outputs": [
    {
     "data": {
      "text/plain": [
       "[61832, 6679, 1299, 828, 34363, 13603, 8474, 49990, 56619]"
      ]
     },
     "execution_count": 200,
     "metadata": {},
     "output_type": "execute_result"
    }
   ],
   "source": [
    "simple_paths[0]"
   ]
  },
  {
   "cell_type": "markdown",
   "metadata": {},
   "source": [
    "## 7.3. Selecting the optimal playlist based on smoothness and user's insterest"
   ]
  },
  {
   "cell_type": "code",
   "execution_count": 359,
   "metadata": {},
   "outputs": [],
   "source": [
    "#Initializing the smoothness and user playlist score vector\n",
    "users_playlist_score = np.zeros(np.shape(simple_paths)[0])\n",
    "smoothness=np.zeros(np.shape(simple_paths)[0])"
   ]
  },
  {
   "cell_type": "code",
   "execution_count": 360,
   "metadata": {},
   "outputs": [],
   "source": [
    "#adjacency2Incidence function that computes incidence matrix from adjacency\n",
    "def adjacency2Incidence(A):\n",
    "    '''\n",
    "    Gets adjacency matrix as inputs and\n",
    "    Returns the Incidence matrix from the adjacency matrix\n",
    "    '''\n",
    "    # The rows are summed up to obtain the degree for each of the nodes\n",
    "    degree = np.array([np.sum(e) for e in A.T])\n",
    "    #Calculating diagonal matrix\n",
    "    D = np.diag(degree)\n",
    "    \n",
    "    # Getting the indices of upper triangle of the matrix\n",
    "    A_triu = np.triu(A)\n",
    "    # Getting pairs of indices for each edges\n",
    "    x, y = np.where(A_triu!=0)\n",
    "    \n",
    "    num_e = x.shape[0] #number of edges\n",
    "    num_n = A.shape[0] #number of nodes\n",
    "    \n",
    "    # Getting the square root of Weights\n",
    "    W_sq = np.sqrt(A)\n",
    "    #Initilizing the incidence matrix\n",
    "    S = np.zeros((num_n, num_e))\n",
    "    \n",
    "    # Filling the incidence matrix\n",
    "    for i, j, k in zip(x,y, range(num_e)):\n",
    "        S[i,k] = W_sq[i,j]\n",
    "        S[j,k] = -W_sq[i,j]\n",
    "    \n",
    "    # Normalizing the incidence matrix (to get the consistent answer for laplacian)\n",
    "    #S_norm = np.linalg.inv(np.sqrt(D))@S\n",
    "    \n",
    "    return S #, S_norm"
   ]
  },
  {
   "cell_type": "code",
   "execution_count": 361,
   "metadata": {},
   "outputs": [],
   "source": [
    "selected_audio = ['audio_Danceability', 'audio_Energy', 'audio_Speechiness', 'audio_Acousticness', \n",
    "                  'audio_Instrumentalness', 'audio_Valence', 'audio_Tempo']"
   ]
  },
  {
   "cell_type": "code",
   "execution_count": 362,
   "metadata": {},
   "outputs": [],
   "source": [
    "###Evaluation of each path in terms of smoothness and user preference (filling of the score vectors)\n",
    "\n",
    "for i in range(0, len(simple_paths)):\n",
    "    #Smoothness\n",
    "    # Keeping only connected conponents\n",
    "    A1 = weights_sub.loc[simple_paths[i], simple_paths[i]] #weights_sub.loc[user_taste.trackID, user_taste.trackID]\n",
    "    gradient = adjacency2Incidence(A1.values).T\n",
    "    gradient_sp = sparse.csr_matrix(gradient)\n",
    "    mood_matrix_sp = sparse.csr_matrix(mood_matrix.loc[simple_paths[i], selected_audio])\n",
    "    \n",
    "    product = gradient_sp@mood_matrix_sp\n",
    "    smoothness[i] = scipy.sparse.linalg.norm(product , ord='fro')\n",
    "    \n",
    "    #User Preferance\n",
    "    SCORE=np.sum(user_taste[user_taste.trackID.isin(simple_paths[i])].loc[:,'pageRank'])\n",
    "    \n",
    "    users_playlist_score[i]=SCORE\n"
   ]
  },
  {
   "cell_type": "code",
   "execution_count": 363,
   "metadata": {},
   "outputs": [],
   "source": [
    "# Keeping only connected conponents\n",
    "#weights_sub = weights_sub.loc[nodes_name, nodes_name]"
   ]
  },
  {
   "cell_type": "code",
   "execution_count": 364,
   "metadata": {},
   "outputs": [],
   "source": [
    "#Normalising the score vectors for them to be comparable\n",
    "smoothness_norm=(smoothness-np.min( smoothness))/(np.max( smoothness)-np.min( smoothness))\n",
    "users_playlist_score_norm=(users_playlist_score-np.min( users_playlist_score))/(np.max( users_playlist_score)-np.min(users_playlist_score))\n",
    "\n"
   ]
  },
  {
   "cell_type": "code",
   "execution_count": 365,
   "metadata": {},
   "outputs": [
    {
     "name": "stdout",
     "output_type": "stream",
     "text": [
      "[31953, 39018, 12706, 56015, 32318, 20219, 57853, 62093]\n"
     ]
    }
   ],
   "source": [
    "#Lambda parameter to quantify how important the user's preference  *defined above)  \n",
    "#Lambda=0.3\n",
    "\n",
    "cost_list = smoothness_norm - Lambda*users_playlist_score_norm\n",
    "\n",
    "optimal_path=simple_paths[np.argmin(cost_list)]\n",
    "\n",
    "print(optimal_path)"
   ]
  },
  {
   "cell_type": "code",
   "execution_count": 366,
   "metadata": {},
   "outputs": [
    {
     "data": {
      "text/html": [
       "<div>\n",
       "<style scoped>\n",
       "    .dataframe tbody tr th:only-of-type {\n",
       "        vertical-align: middle;\n",
       "    }\n",
       "\n",
       "    .dataframe tbody tr th {\n",
       "        vertical-align: top;\n",
       "    }\n",
       "\n",
       "    .dataframe thead th {\n",
       "        text-align: right;\n",
       "    }\n",
       "</style>\n",
       "<table border=\"1\" class=\"dataframe\">\n",
       "  <thead>\n",
       "    <tr style=\"text-align: right;\">\n",
       "      <th></th>\n",
       "      <th>positionID</th>\n",
       "      <th>trackTitle</th>\n",
       "      <th>artistName</th>\n",
       "      <th>releaseDate</th>\n",
       "      <th>topGenre1</th>\n",
       "      <th>audio_Duration_ms</th>\n",
       "    </tr>\n",
       "  </thead>\n",
       "  <tbody>\n",
       "    <tr>\n",
       "      <th>31953</th>\n",
       "      <td>0</td>\n",
       "      <td>Shadow Of Love</td>\n",
       "      <td>Laura Branigan</td>\n",
       "      <td>1987</td>\n",
       "      <td>Rock</td>\n",
       "      <td>304720</td>\n",
       "    </tr>\n",
       "    <tr>\n",
       "      <th>39018</th>\n",
       "      <td>1</td>\n",
       "      <td>You Are The One</td>\n",
       "      <td>Carlene Carter</td>\n",
       "      <td>2007</td>\n",
       "      <td>Country</td>\n",
       "      <td>158746</td>\n",
       "    </tr>\n",
       "    <tr>\n",
       "      <th>12706</th>\n",
       "      <td>2</td>\n",
       "      <td>Morning Star, Lady On The Island, Copper Plate</td>\n",
       "      <td>Barley Bree</td>\n",
       "      <td>2005</td>\n",
       "      <td>Country</td>\n",
       "      <td>159907</td>\n",
       "    </tr>\n",
       "    <tr>\n",
       "      <th>56015</th>\n",
       "      <td>3</td>\n",
       "      <td>I Feel Love - The Professionals Mix feat. Rob ...</td>\n",
       "      <td>Blue Man Group</td>\n",
       "      <td>2004</td>\n",
       "      <td>OTHER</td>\n",
       "      <td>261213</td>\n",
       "    </tr>\n",
       "    <tr>\n",
       "      <th>32318</th>\n",
       "      <td>4</td>\n",
       "      <td>Lost and lonely</td>\n",
       "      <td>Elliott Murphy</td>\n",
       "      <td>2008</td>\n",
       "      <td>Rock</td>\n",
       "      <td>383467</td>\n",
       "    </tr>\n",
       "    <tr>\n",
       "      <th>20219</th>\n",
       "      <td>5</td>\n",
       "      <td>Don't Lie</td>\n",
       "      <td>The Mantles</td>\n",
       "      <td>2009</td>\n",
       "      <td>NaN</td>\n",
       "      <td>229000</td>\n",
       "    </tr>\n",
       "    <tr>\n",
       "      <th>57853</th>\n",
       "      <td>6</td>\n",
       "      <td>One More Chance</td>\n",
       "      <td>Nico</td>\n",
       "      <td>2007</td>\n",
       "      <td>Pop</td>\n",
       "      <td>426867</td>\n",
       "    </tr>\n",
       "    <tr>\n",
       "      <th>62093</th>\n",
       "      <td>7</td>\n",
       "      <td>She Don't Sleep</td>\n",
       "      <td>Craig Wedren</td>\n",
       "      <td>2005</td>\n",
       "      <td>NaN</td>\n",
       "      <td>225947</td>\n",
       "    </tr>\n",
       "  </tbody>\n",
       "</table>\n",
       "</div>"
      ],
      "text/plain": [
       "       positionID                                         trackTitle  \\\n",
       "31953           0                                     Shadow Of Love   \n",
       "39018           1                                    You Are The One   \n",
       "12706           2     Morning Star, Lady On The Island, Copper Plate   \n",
       "56015           3  I Feel Love - The Professionals Mix feat. Rob ...   \n",
       "32318           4                                    Lost and lonely   \n",
       "20219           5                                          Don't Lie   \n",
       "57853           6                                    One More Chance   \n",
       "62093           7                                    She Don't Sleep   \n",
       "\n",
       "           artistName  releaseDate topGenre1  audio_Duration_ms  \n",
       "31953  Laura Branigan         1987      Rock             304720  \n",
       "39018  Carlene Carter         2007   Country             158746  \n",
       "12706     Barley Bree         2005   Country             159907  \n",
       "56015  Blue Man Group         2004     OTHER             261213  \n",
       "32318  Elliott Murphy         2008      Rock             383467  \n",
       "20219     The Mantles         2009       NaN             229000  \n",
       "57853            Nico         2007       Pop             426867  \n",
       "62093    Craig Wedren         2005       NaN             225947  "
      ]
     },
     "execution_count": 366,
     "metadata": {},
     "output_type": "execute_result"
    }
   ],
   "source": [
    "### Getting the final table of all generated songs\n",
    "optimal_path_df = tracks[tracks.trackID.isin(optimal_path)].copy()\n",
    "\n",
    "# creating a dictionary for adding song position column\n",
    "dict_path_position = dict(zip(optimal_path, range(len(optimal_path))))\n",
    "# Adding position id to the dataframe\n",
    "optimal_path_df['positionID'] = optimal_path_df.trackID.map(dict_path_position)\n",
    "optimal_path_df = optimal_path_df.sort_values(by=['positionID'])\n",
    "\n",
    "optimal_path_df = optimal_path_df[['positionID', 'trackTitle', 'artistName', 'releaseDate', 'topGenre1', 'audio_Duration_ms']]\n",
    "\n",
    "optimal_path_df"
   ]
  },
  {
   "cell_type": "code",
   "execution_count": 367,
   "metadata": {},
   "outputs": [
    {
     "data": {
      "text/html": [
       "<div>\n",
       "<style scoped>\n",
       "    .dataframe tbody tr th:only-of-type {\n",
       "        vertical-align: middle;\n",
       "    }\n",
       "\n",
       "    .dataframe tbody tr th {\n",
       "        vertical-align: top;\n",
       "    }\n",
       "\n",
       "    .dataframe thead th {\n",
       "        text-align: right;\n",
       "    }\n",
       "</style>\n",
       "<table border=\"1\" class=\"dataframe\">\n",
       "  <thead>\n",
       "    <tr style=\"text-align: right;\">\n",
       "      <th></th>\n",
       "      <th>positionID</th>\n",
       "      <th>trackID</th>\n",
       "      <th>audio_Danceability</th>\n",
       "      <th>audio_Energy</th>\n",
       "      <th>audio_Valence</th>\n",
       "    </tr>\n",
       "  </thead>\n",
       "  <tbody>\n",
       "    <tr>\n",
       "      <th>0</th>\n",
       "      <td>0</td>\n",
       "      <td>31953</td>\n",
       "      <td>0.511</td>\n",
       "      <td>0.530</td>\n",
       "      <td>0.503</td>\n",
       "    </tr>\n",
       "    <tr>\n",
       "      <th>1</th>\n",
       "      <td>1</td>\n",
       "      <td>39018</td>\n",
       "      <td>0.640</td>\n",
       "      <td>0.874</td>\n",
       "      <td>0.833</td>\n",
       "    </tr>\n",
       "    <tr>\n",
       "      <th>2</th>\n",
       "      <td>2</td>\n",
       "      <td>12706</td>\n",
       "      <td>0.478</td>\n",
       "      <td>0.776</td>\n",
       "      <td>0.964</td>\n",
       "    </tr>\n",
       "    <tr>\n",
       "      <th>3</th>\n",
       "      <td>3</td>\n",
       "      <td>56015</td>\n",
       "      <td>0.619</td>\n",
       "      <td>0.949</td>\n",
       "      <td>0.565</td>\n",
       "    </tr>\n",
       "    <tr>\n",
       "      <th>4</th>\n",
       "      <td>4</td>\n",
       "      <td>32318</td>\n",
       "      <td>0.526</td>\n",
       "      <td>0.878</td>\n",
       "      <td>0.839</td>\n",
       "    </tr>\n",
       "    <tr>\n",
       "      <th>5</th>\n",
       "      <td>5</td>\n",
       "      <td>20219</td>\n",
       "      <td>0.184</td>\n",
       "      <td>0.896</td>\n",
       "      <td>0.410</td>\n",
       "    </tr>\n",
       "    <tr>\n",
       "      <th>6</th>\n",
       "      <td>6</td>\n",
       "      <td>57853</td>\n",
       "      <td>0.221</td>\n",
       "      <td>0.959</td>\n",
       "      <td>0.126</td>\n",
       "    </tr>\n",
       "    <tr>\n",
       "      <th>7</th>\n",
       "      <td>7</td>\n",
       "      <td>62093</td>\n",
       "      <td>0.362</td>\n",
       "      <td>0.622</td>\n",
       "      <td>0.323</td>\n",
       "    </tr>\n",
       "  </tbody>\n",
       "</table>\n",
       "</div>"
      ],
      "text/plain": [
       "   positionID  trackID  audio_Danceability  audio_Energy  audio_Valence\n",
       "0           0    31953               0.511         0.530          0.503\n",
       "1           1    39018               0.640         0.874          0.833\n",
       "2           2    12706               0.478         0.776          0.964\n",
       "3           3    56015               0.619         0.949          0.565\n",
       "4           4    32318               0.526         0.878          0.839\n",
       "5           5    20219               0.184         0.896          0.410\n",
       "6           6    57853               0.221         0.959          0.126\n",
       "7           7    62093               0.362         0.622          0.323"
      ]
     },
     "execution_count": 367,
     "metadata": {},
     "output_type": "execute_result"
    }
   ],
   "source": [
    "# Getting the audio features for the songs in optimal path\n",
    "optimal_path_mood = audio_features[audio_features.trackID.isin(optimal_path)].copy()\n",
    "\n",
    "# Adding positionID to the DataFrame\n",
    "optimal_path_mood['positionID'] = optimal_path_mood.trackID.map(dict_path_position)\n",
    "optimal_path_mood = optimal_path_mood.sort_values(by=['positionID']).reset_index(drop=True)\n",
    "\n",
    "# Repositioning the columns\n",
    "optimal_path_mood = optimal_path_mood[['positionID','trackID','audio_Danceability', 'audio_Energy','audio_Valence']]\n",
    "\n",
    "optimal_path_mood"
   ]
  },
  {
   "cell_type": "code",
   "execution_count": null,
   "metadata": {},
   "outputs": [],
   "source": []
  }
 ],
 "metadata": {
  "kernelspec": {
   "display_name": "Python 3",
   "language": "python",
   "name": "python3"
  },
  "language_info": {
   "codemirror_mode": {
    "name": "ipython",
    "version": 3
   },
   "file_extension": ".py",
   "mimetype": "text/x-python",
   "name": "python",
   "nbconvert_exporter": "python",
   "pygments_lexer": "ipython3",
   "version": "3.6.5"
  }
 },
 "nbformat": 4,
 "nbformat_minor": 2
}
